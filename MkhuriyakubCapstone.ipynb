{
 "cells": [
  {
   "cell_type": "markdown",
   "id": "75158b78",
   "metadata": {},
   "source": [
    "# Applications for Predictive Hockey Models in Pro Scouting\n",
    "\n",
    "### By Marc Khuri-Yakub\n",
    "#### BrainStation Diploma Candidate July 2021"
   ]
  },
  {
   "cell_type": "markdown",
   "id": "acb91548",
   "metadata": {},
   "source": [
    "## Motivation for this project: \n",
    "\n",
    "I am an avid hockey fan and have always enjoyed watching the NHL. In recent years I've felt a desire to dig deeper into the analytics side of the game to see what the data can tell us. Initially my goal was to create a model for line combination generation based on player strengths. That would be finding 3 forwards whose advanced statistics would mesh well together and provide the highest value on the ice. However, that would be akin to running before you could walk, so I moved towards a game prediction model. To begin I went to NaturalStatTrick.com and downloaded several datasets to see what I could learn."
   ]
  },
  {
   "cell_type": "code",
   "execution_count": 1,
   "id": "db1b2a23",
   "metadata": {},
   "outputs": [],
   "source": [
    "# Importing the necessary packages\n",
    "import pandas as pd\n",
    "import numpy as np\n",
    "import matplotlib.pyplot as plt\n",
    "%matplotlib inline\n",
    "from scipy import random"
   ]
  },
  {
   "cell_type": "markdown",
   "id": "251e2757",
   "metadata": {},
   "source": [
    "## Exploratory Data Analysis:\n",
    "\n",
    "To begin with, I decided to look at the advanced team stats from the most recent NHL season. "
   ]
  },
  {
   "cell_type": "code",
   "execution_count": 2,
   "id": "ca215984",
   "metadata": {},
   "outputs": [],
   "source": [
    "# Importing in the data from NaturalStatTrick.com for the most recent season using pd.read_csv\n",
    "team_df_21 = pd.read_csv('data/Team Season Totals - Natural Stat Trick 20-21.csv')"
   ]
  },
  {
   "cell_type": "code",
   "execution_count": 3,
   "id": "e247d0a8",
   "metadata": {},
   "outputs": [
    {
     "data": {
      "text/plain": [
       "(31, 72)"
      ]
     },
     "execution_count": 3,
     "metadata": {},
     "output_type": "execute_result"
    }
   ],
   "source": [
    "# Taking a look at the shape of the data\n",
    "team_df_21.shape"
   ]
  },
  {
   "cell_type": "markdown",
   "id": "45c0989e",
   "metadata": {},
   "source": [
    "There are currently 31 teams in the NHL, which explains the 31 rows. 72 columns is a lot of advanced statistics, so I have attached a detailed data dictionary from NaturalStatTrick.com [here](https://www.naturalstattrick.com/glossary.php?lines). "
   ]
  },
  {
   "cell_type": "code",
   "execution_count": 4,
   "id": "dd0da377",
   "metadata": {
    "scrolled": true
   },
   "outputs": [
    {
     "data": {
      "text/html": [
       "<div>\n",
       "<style scoped>\n",
       "    .dataframe tbody tr th:only-of-type {\n",
       "        vertical-align: middle;\n",
       "    }\n",
       "\n",
       "    .dataframe tbody tr th {\n",
       "        vertical-align: top;\n",
       "    }\n",
       "\n",
       "    .dataframe thead th {\n",
       "        text-align: right;\n",
       "    }\n",
       "</style>\n",
       "<table border=\"1\" class=\"dataframe\">\n",
       "  <thead>\n",
       "    <tr style=\"text-align: right;\">\n",
       "      <th></th>\n",
       "      <th>Unnamed: 0</th>\n",
       "      <th>Team</th>\n",
       "      <th>GP</th>\n",
       "      <th>TOI</th>\n",
       "      <th>W</th>\n",
       "      <th>L</th>\n",
       "      <th>OTL</th>\n",
       "      <th>ROW</th>\n",
       "      <th>Points</th>\n",
       "      <th>Point %</th>\n",
       "      <th>...</th>\n",
       "      <th>LDSA</th>\n",
       "      <th>LDSF%</th>\n",
       "      <th>LDGF</th>\n",
       "      <th>LDGA</th>\n",
       "      <th>LDGF%</th>\n",
       "      <th>LDSH%</th>\n",
       "      <th>LDSV%</th>\n",
       "      <th>SH%</th>\n",
       "      <th>SV%</th>\n",
       "      <th>PDO</th>\n",
       "    </tr>\n",
       "  </thead>\n",
       "  <tbody>\n",
       "    <tr>\n",
       "      <th>0</th>\n",
       "      <td>1</td>\n",
       "      <td>Pittsburgh Penguins</td>\n",
       "      <td>56</td>\n",
       "      <td>2765.7167</td>\n",
       "      <td>37</td>\n",
       "      <td>16</td>\n",
       "      <td>3</td>\n",
       "      <td>34</td>\n",
       "      <td>77</td>\n",
       "      <td>0.688</td>\n",
       "      <td>...</td>\n",
       "      <td>587</td>\n",
       "      <td>49.53</td>\n",
       "      <td>16</td>\n",
       "      <td>13</td>\n",
       "      <td>55.17</td>\n",
       "      <td>2.78</td>\n",
       "      <td>97.79</td>\n",
       "      <td>9.38</td>\n",
       "      <td>92.50</td>\n",
       "      <td>1.019</td>\n",
       "    </tr>\n",
       "    <tr>\n",
       "      <th>1</th>\n",
       "      <td>2</td>\n",
       "      <td>Philadelphia Flyers</td>\n",
       "      <td>56</td>\n",
       "      <td>2716.9667</td>\n",
       "      <td>25</td>\n",
       "      <td>23</td>\n",
       "      <td>8</td>\n",
       "      <td>22</td>\n",
       "      <td>58</td>\n",
       "      <td>0.518</td>\n",
       "      <td>...</td>\n",
       "      <td>572</td>\n",
       "      <td>51.19</td>\n",
       "      <td>11</td>\n",
       "      <td>21</td>\n",
       "      <td>34.38</td>\n",
       "      <td>1.83</td>\n",
       "      <td>96.33</td>\n",
       "      <td>8.26</td>\n",
       "      <td>89.54</td>\n",
       "      <td>0.978</td>\n",
       "    </tr>\n",
       "    <tr>\n",
       "      <th>2</th>\n",
       "      <td>3</td>\n",
       "      <td>Chicago Blackhawks</td>\n",
       "      <td>56</td>\n",
       "      <td>2716.9500</td>\n",
       "      <td>24</td>\n",
       "      <td>25</td>\n",
       "      <td>7</td>\n",
       "      <td>22</td>\n",
       "      <td>55</td>\n",
       "      <td>0.491</td>\n",
       "      <td>...</td>\n",
       "      <td>596</td>\n",
       "      <td>46.50</td>\n",
       "      <td>11</td>\n",
       "      <td>15</td>\n",
       "      <td>42.31</td>\n",
       "      <td>2.12</td>\n",
       "      <td>97.48</td>\n",
       "      <td>7.95</td>\n",
       "      <td>91.67</td>\n",
       "      <td>0.996</td>\n",
       "    </tr>\n",
       "    <tr>\n",
       "      <th>3</th>\n",
       "      <td>4</td>\n",
       "      <td>Tampa Bay Lightning</td>\n",
       "      <td>56</td>\n",
       "      <td>2628.2333</td>\n",
       "      <td>36</td>\n",
       "      <td>17</td>\n",
       "      <td>3</td>\n",
       "      <td>35</td>\n",
       "      <td>75</td>\n",
       "      <td>0.670</td>\n",
       "      <td>...</td>\n",
       "      <td>479</td>\n",
       "      <td>52.57</td>\n",
       "      <td>16</td>\n",
       "      <td>12</td>\n",
       "      <td>57.14</td>\n",
       "      <td>3.01</td>\n",
       "      <td>97.49</td>\n",
       "      <td>8.43</td>\n",
       "      <td>92.11</td>\n",
       "      <td>1.005</td>\n",
       "    </tr>\n",
       "    <tr>\n",
       "      <th>4</th>\n",
       "      <td>5</td>\n",
       "      <td>Montreal Canadiens</td>\n",
       "      <td>56</td>\n",
       "      <td>2736.7167</td>\n",
       "      <td>24</td>\n",
       "      <td>21</td>\n",
       "      <td>11</td>\n",
       "      <td>23</td>\n",
       "      <td>59</td>\n",
       "      <td>0.527</td>\n",
       "      <td>...</td>\n",
       "      <td>512</td>\n",
       "      <td>55.71</td>\n",
       "      <td>14</td>\n",
       "      <td>8</td>\n",
       "      <td>63.64</td>\n",
       "      <td>2.17</td>\n",
       "      <td>98.44</td>\n",
       "      <td>7.50</td>\n",
       "      <td>91.37</td>\n",
       "      <td>0.989</td>\n",
       "    </tr>\n",
       "    <tr>\n",
       "      <th>5</th>\n",
       "      <td>6</td>\n",
       "      <td>Toronto Maple Leafs</td>\n",
       "      <td>56</td>\n",
       "      <td>2751.7333</td>\n",
       "      <td>35</td>\n",
       "      <td>14</td>\n",
       "      <td>7</td>\n",
       "      <td>34</td>\n",
       "      <td>77</td>\n",
       "      <td>0.688</td>\n",
       "      <td>...</td>\n",
       "      <td>553</td>\n",
       "      <td>46.15</td>\n",
       "      <td>15</td>\n",
       "      <td>18</td>\n",
       "      <td>45.45</td>\n",
       "      <td>3.16</td>\n",
       "      <td>96.75</td>\n",
       "      <td>9.68</td>\n",
       "      <td>92.36</td>\n",
       "      <td>1.020</td>\n",
       "    </tr>\n",
       "    <tr>\n",
       "      <th>6</th>\n",
       "      <td>7</td>\n",
       "      <td>Vancouver Canucks</td>\n",
       "      <td>56</td>\n",
       "      <td>2681.7833</td>\n",
       "      <td>23</td>\n",
       "      <td>29</td>\n",
       "      <td>4</td>\n",
       "      <td>20</td>\n",
       "      <td>50</td>\n",
       "      <td>0.446</td>\n",
       "      <td>...</td>\n",
       "      <td>574</td>\n",
       "      <td>50.30</td>\n",
       "      <td>14</td>\n",
       "      <td>10</td>\n",
       "      <td>58.33</td>\n",
       "      <td>2.41</td>\n",
       "      <td>98.26</td>\n",
       "      <td>7.95</td>\n",
       "      <td>91.11</td>\n",
       "      <td>0.991</td>\n",
       "    </tr>\n",
       "    <tr>\n",
       "      <th>7</th>\n",
       "      <td>8</td>\n",
       "      <td>Edmonton Oilers</td>\n",
       "      <td>56</td>\n",
       "      <td>2738.9833</td>\n",
       "      <td>35</td>\n",
       "      <td>19</td>\n",
       "      <td>2</td>\n",
       "      <td>35</td>\n",
       "      <td>72</td>\n",
       "      <td>0.643</td>\n",
       "      <td>...</td>\n",
       "      <td>570</td>\n",
       "      <td>49.20</td>\n",
       "      <td>12</td>\n",
       "      <td>17</td>\n",
       "      <td>41.38</td>\n",
       "      <td>2.17</td>\n",
       "      <td>97.02</td>\n",
       "      <td>8.88</td>\n",
       "      <td>91.56</td>\n",
       "      <td>1.004</td>\n",
       "    </tr>\n",
       "    <tr>\n",
       "      <th>8</th>\n",
       "      <td>9</td>\n",
       "      <td>St Louis Blues</td>\n",
       "      <td>56</td>\n",
       "      <td>2739.7167</td>\n",
       "      <td>27</td>\n",
       "      <td>20</td>\n",
       "      <td>9</td>\n",
       "      <td>25</td>\n",
       "      <td>63</td>\n",
       "      <td>0.563</td>\n",
       "      <td>...</td>\n",
       "      <td>557</td>\n",
       "      <td>48.90</td>\n",
       "      <td>14</td>\n",
       "      <td>17</td>\n",
       "      <td>45.16</td>\n",
       "      <td>2.63</td>\n",
       "      <td>96.95</td>\n",
       "      <td>8.23</td>\n",
       "      <td>91.62</td>\n",
       "      <td>0.998</td>\n",
       "    </tr>\n",
       "    <tr>\n",
       "      <th>9</th>\n",
       "      <td>10</td>\n",
       "      <td>Colorado Avalanche</td>\n",
       "      <td>56</td>\n",
       "      <td>2641.6333</td>\n",
       "      <td>39</td>\n",
       "      <td>13</td>\n",
       "      <td>4</td>\n",
       "      <td>39</td>\n",
       "      <td>82</td>\n",
       "      <td>0.732</td>\n",
       "      <td>...</td>\n",
       "      <td>448</td>\n",
       "      <td>58.75</td>\n",
       "      <td>20</td>\n",
       "      <td>10</td>\n",
       "      <td>66.67</td>\n",
       "      <td>3.13</td>\n",
       "      <td>97.77</td>\n",
       "      <td>8.87</td>\n",
       "      <td>91.67</td>\n",
       "      <td>1.005</td>\n",
       "    </tr>\n",
       "    <tr>\n",
       "      <th>10</th>\n",
       "      <td>11</td>\n",
       "      <td>Washington Capitals</td>\n",
       "      <td>56</td>\n",
       "      <td>2724.3167</td>\n",
       "      <td>36</td>\n",
       "      <td>15</td>\n",
       "      <td>5</td>\n",
       "      <td>33</td>\n",
       "      <td>77</td>\n",
       "      <td>0.688</td>\n",
       "      <td>...</td>\n",
       "      <td>579</td>\n",
       "      <td>50.64</td>\n",
       "      <td>27</td>\n",
       "      <td>16</td>\n",
       "      <td>62.79</td>\n",
       "      <td>4.55</td>\n",
       "      <td>97.24</td>\n",
       "      <td>10.07</td>\n",
       "      <td>91.64</td>\n",
       "      <td>1.017</td>\n",
       "    </tr>\n",
       "    <tr>\n",
       "      <th>11</th>\n",
       "      <td>12</td>\n",
       "      <td>Buffalo Sabres</td>\n",
       "      <td>56</td>\n",
       "      <td>2811.8333</td>\n",
       "      <td>15</td>\n",
       "      <td>34</td>\n",
       "      <td>7</td>\n",
       "      <td>11</td>\n",
       "      <td>37</td>\n",
       "      <td>0.330</td>\n",
       "      <td>...</td>\n",
       "      <td>713</td>\n",
       "      <td>46.55</td>\n",
       "      <td>18</td>\n",
       "      <td>25</td>\n",
       "      <td>41.86</td>\n",
       "      <td>2.90</td>\n",
       "      <td>96.49</td>\n",
       "      <td>6.69</td>\n",
       "      <td>91.06</td>\n",
       "      <td>0.977</td>\n",
       "    </tr>\n",
       "    <tr>\n",
       "      <th>12</th>\n",
       "      <td>13</td>\n",
       "      <td>Boston Bruins</td>\n",
       "      <td>56</td>\n",
       "      <td>2694.3333</td>\n",
       "      <td>33</td>\n",
       "      <td>16</td>\n",
       "      <td>7</td>\n",
       "      <td>29</td>\n",
       "      <td>73</td>\n",
       "      <td>0.652</td>\n",
       "      <td>...</td>\n",
       "      <td>498</td>\n",
       "      <td>57.40</td>\n",
       "      <td>18</td>\n",
       "      <td>17</td>\n",
       "      <td>51.43</td>\n",
       "      <td>2.68</td>\n",
       "      <td>96.59</td>\n",
       "      <td>7.21</td>\n",
       "      <td>92.04</td>\n",
       "      <td>0.992</td>\n",
       "    </tr>\n",
       "    <tr>\n",
       "      <th>13</th>\n",
       "      <td>14</td>\n",
       "      <td>New Jersey Devils</td>\n",
       "      <td>56</td>\n",
       "      <td>2741.8000</td>\n",
       "      <td>19</td>\n",
       "      <td>30</td>\n",
       "      <td>7</td>\n",
       "      <td>19</td>\n",
       "      <td>45</td>\n",
       "      <td>0.402</td>\n",
       "      <td>...</td>\n",
       "      <td>611</td>\n",
       "      <td>48.66</td>\n",
       "      <td>17</td>\n",
       "      <td>21</td>\n",
       "      <td>44.74</td>\n",
       "      <td>2.94</td>\n",
       "      <td>96.56</td>\n",
       "      <td>7.77</td>\n",
       "      <td>91.12</td>\n",
       "      <td>0.989</td>\n",
       "    </tr>\n",
       "    <tr>\n",
       "      <th>14</th>\n",
       "      <td>15</td>\n",
       "      <td>New York Islanders</td>\n",
       "      <td>56</td>\n",
       "      <td>2793.4167</td>\n",
       "      <td>32</td>\n",
       "      <td>17</td>\n",
       "      <td>7</td>\n",
       "      <td>28</td>\n",
       "      <td>71</td>\n",
       "      <td>0.634</td>\n",
       "      <td>...</td>\n",
       "      <td>569</td>\n",
       "      <td>46.97</td>\n",
       "      <td>15</td>\n",
       "      <td>15</td>\n",
       "      <td>50.00</td>\n",
       "      <td>2.98</td>\n",
       "      <td>97.36</td>\n",
       "      <td>8.55</td>\n",
       "      <td>93.11</td>\n",
       "      <td>1.017</td>\n",
       "    </tr>\n",
       "    <tr>\n",
       "      <th>15</th>\n",
       "      <td>16</td>\n",
       "      <td>New York Rangers</td>\n",
       "      <td>56</td>\n",
       "      <td>2688.1833</td>\n",
       "      <td>27</td>\n",
       "      <td>23</td>\n",
       "      <td>6</td>\n",
       "      <td>26</td>\n",
       "      <td>60</td>\n",
       "      <td>0.536</td>\n",
       "      <td>...</td>\n",
       "      <td>574</td>\n",
       "      <td>49.29</td>\n",
       "      <td>24</td>\n",
       "      <td>18</td>\n",
       "      <td>57.14</td>\n",
       "      <td>4.30</td>\n",
       "      <td>96.86</td>\n",
       "      <td>9.32</td>\n",
       "      <td>92.03</td>\n",
       "      <td>1.013</td>\n",
       "    </tr>\n",
       "    <tr>\n",
       "      <th>16</th>\n",
       "      <td>17</td>\n",
       "      <td>Dallas Stars</td>\n",
       "      <td>56</td>\n",
       "      <td>2765.2333</td>\n",
       "      <td>23</td>\n",
       "      <td>19</td>\n",
       "      <td>14</td>\n",
       "      <td>21</td>\n",
       "      <td>60</td>\n",
       "      <td>0.536</td>\n",
       "      <td>...</td>\n",
       "      <td>503</td>\n",
       "      <td>52.95</td>\n",
       "      <td>6</td>\n",
       "      <td>22</td>\n",
       "      <td>21.43</td>\n",
       "      <td>1.06</td>\n",
       "      <td>95.63</td>\n",
       "      <td>7.45</td>\n",
       "      <td>91.99</td>\n",
       "      <td>0.994</td>\n",
       "    </tr>\n",
       "    <tr>\n",
       "      <th>17</th>\n",
       "      <td>18</td>\n",
       "      <td>Florida Panthers</td>\n",
       "      <td>56</td>\n",
       "      <td>2651.0833</td>\n",
       "      <td>37</td>\n",
       "      <td>14</td>\n",
       "      <td>5</td>\n",
       "      <td>36</td>\n",
       "      <td>79</td>\n",
       "      <td>0.705</td>\n",
       "      <td>...</td>\n",
       "      <td>562</td>\n",
       "      <td>53.21</td>\n",
       "      <td>24</td>\n",
       "      <td>11</td>\n",
       "      <td>68.57</td>\n",
       "      <td>3.76</td>\n",
       "      <td>98.04</td>\n",
       "      <td>7.90</td>\n",
       "      <td>92.62</td>\n",
       "      <td>1.005</td>\n",
       "    </tr>\n",
       "    <tr>\n",
       "      <th>18</th>\n",
       "      <td>19</td>\n",
       "      <td>Carolina Hurricanes</td>\n",
       "      <td>56</td>\n",
       "      <td>2710.6833</td>\n",
       "      <td>36</td>\n",
       "      <td>12</td>\n",
       "      <td>8</td>\n",
       "      <td>32</td>\n",
       "      <td>80</td>\n",
       "      <td>0.714</td>\n",
       "      <td>...</td>\n",
       "      <td>508</td>\n",
       "      <td>54.56</td>\n",
       "      <td>16</td>\n",
       "      <td>9</td>\n",
       "      <td>64.00</td>\n",
       "      <td>2.62</td>\n",
       "      <td>98.23</td>\n",
       "      <td>7.38</td>\n",
       "      <td>93.53</td>\n",
       "      <td>1.009</td>\n",
       "    </tr>\n",
       "    <tr>\n",
       "      <th>19</th>\n",
       "      <td>20</td>\n",
       "      <td>Detroit Red Wings</td>\n",
       "      <td>56</td>\n",
       "      <td>2729.8500</td>\n",
       "      <td>19</td>\n",
       "      <td>27</td>\n",
       "      <td>10</td>\n",
       "      <td>17</td>\n",
       "      <td>48</td>\n",
       "      <td>0.429</td>\n",
       "      <td>...</td>\n",
       "      <td>652</td>\n",
       "      <td>44.46</td>\n",
       "      <td>14</td>\n",
       "      <td>15</td>\n",
       "      <td>48.28</td>\n",
       "      <td>2.68</td>\n",
       "      <td>97.70</td>\n",
       "      <td>7.22</td>\n",
       "      <td>92.15</td>\n",
       "      <td>0.994</td>\n",
       "    </tr>\n",
       "    <tr>\n",
       "      <th>20</th>\n",
       "      <td>21</td>\n",
       "      <td>Columbus Blue Jackets</td>\n",
       "      <td>56</td>\n",
       "      <td>2838.5833</td>\n",
       "      <td>18</td>\n",
       "      <td>26</td>\n",
       "      <td>12</td>\n",
       "      <td>15</td>\n",
       "      <td>48</td>\n",
       "      <td>0.429</td>\n",
       "      <td>...</td>\n",
       "      <td>679</td>\n",
       "      <td>48.60</td>\n",
       "      <td>20</td>\n",
       "      <td>23</td>\n",
       "      <td>46.51</td>\n",
       "      <td>3.12</td>\n",
       "      <td>96.61</td>\n",
       "      <td>7.19</td>\n",
       "      <td>91.28</td>\n",
       "      <td>0.985</td>\n",
       "    </tr>\n",
       "    <tr>\n",
       "      <th>21</th>\n",
       "      <td>22</td>\n",
       "      <td>Nashville Predators</td>\n",
       "      <td>56</td>\n",
       "      <td>2702.5833</td>\n",
       "      <td>31</td>\n",
       "      <td>23</td>\n",
       "      <td>2</td>\n",
       "      <td>26</td>\n",
       "      <td>64</td>\n",
       "      <td>0.571</td>\n",
       "      <td>...</td>\n",
       "      <td>642</td>\n",
       "      <td>48.02</td>\n",
       "      <td>17</td>\n",
       "      <td>17</td>\n",
       "      <td>50.00</td>\n",
       "      <td>2.87</td>\n",
       "      <td>97.35</td>\n",
       "      <td>7.73</td>\n",
       "      <td>93.57</td>\n",
       "      <td>1.013</td>\n",
       "    </tr>\n",
       "    <tr>\n",
       "      <th>22</th>\n",
       "      <td>23</td>\n",
       "      <td>Calgary Flames</td>\n",
       "      <td>56</td>\n",
       "      <td>2662.0000</td>\n",
       "      <td>26</td>\n",
       "      <td>27</td>\n",
       "      <td>3</td>\n",
       "      <td>25</td>\n",
       "      <td>55</td>\n",
       "      <td>0.491</td>\n",
       "      <td>...</td>\n",
       "      <td>534</td>\n",
       "      <td>50.46</td>\n",
       "      <td>15</td>\n",
       "      <td>10</td>\n",
       "      <td>60.00</td>\n",
       "      <td>2.76</td>\n",
       "      <td>98.13</td>\n",
       "      <td>8.54</td>\n",
       "      <td>91.52</td>\n",
       "      <td>1.001</td>\n",
       "    </tr>\n",
       "    <tr>\n",
       "      <th>23</th>\n",
       "      <td>24</td>\n",
       "      <td>Winnipeg Jets</td>\n",
       "      <td>56</td>\n",
       "      <td>2725.6333</td>\n",
       "      <td>30</td>\n",
       "      <td>23</td>\n",
       "      <td>3</td>\n",
       "      <td>30</td>\n",
       "      <td>63</td>\n",
       "      <td>0.563</td>\n",
       "      <td>...</td>\n",
       "      <td>538</td>\n",
       "      <td>50.51</td>\n",
       "      <td>6</td>\n",
       "      <td>8</td>\n",
       "      <td>42.86</td>\n",
       "      <td>1.09</td>\n",
       "      <td>98.51</td>\n",
       "      <td>8.56</td>\n",
       "      <td>92.42</td>\n",
       "      <td>1.010</td>\n",
       "    </tr>\n",
       "    <tr>\n",
       "      <th>24</th>\n",
       "      <td>25</td>\n",
       "      <td>San Jose Sharks</td>\n",
       "      <td>56</td>\n",
       "      <td>2688.3000</td>\n",
       "      <td>21</td>\n",
       "      <td>28</td>\n",
       "      <td>7</td>\n",
       "      <td>16</td>\n",
       "      <td>49</td>\n",
       "      <td>0.438</td>\n",
       "      <td>...</td>\n",
       "      <td>595</td>\n",
       "      <td>45.11</td>\n",
       "      <td>15</td>\n",
       "      <td>23</td>\n",
       "      <td>39.47</td>\n",
       "      <td>3.07</td>\n",
       "      <td>96.13</td>\n",
       "      <td>8.05</td>\n",
       "      <td>90.37</td>\n",
       "      <td>0.984</td>\n",
       "    </tr>\n",
       "    <tr>\n",
       "      <th>25</th>\n",
       "      <td>26</td>\n",
       "      <td>Arizona Coyotes</td>\n",
       "      <td>56</td>\n",
       "      <td>2680.3333</td>\n",
       "      <td>24</td>\n",
       "      <td>26</td>\n",
       "      <td>6</td>\n",
       "      <td>21</td>\n",
       "      <td>54</td>\n",
       "      <td>0.482</td>\n",
       "      <td>...</td>\n",
       "      <td>520</td>\n",
       "      <td>50.19</td>\n",
       "      <td>11</td>\n",
       "      <td>12</td>\n",
       "      <td>47.83</td>\n",
       "      <td>2.10</td>\n",
       "      <td>97.69</td>\n",
       "      <td>8.12</td>\n",
       "      <td>91.22</td>\n",
       "      <td>0.993</td>\n",
       "    </tr>\n",
       "    <tr>\n",
       "      <th>26</th>\n",
       "      <td>27</td>\n",
       "      <td>Anaheim Ducks</td>\n",
       "      <td>56</td>\n",
       "      <td>2764.7667</td>\n",
       "      <td>17</td>\n",
       "      <td>30</td>\n",
       "      <td>9</td>\n",
       "      <td>15</td>\n",
       "      <td>43</td>\n",
       "      <td>0.384</td>\n",
       "      <td>...</td>\n",
       "      <td>545</td>\n",
       "      <td>46.62</td>\n",
       "      <td>13</td>\n",
       "      <td>10</td>\n",
       "      <td>56.52</td>\n",
       "      <td>2.73</td>\n",
       "      <td>98.17</td>\n",
       "      <td>8.26</td>\n",
       "      <td>91.06</td>\n",
       "      <td>0.993</td>\n",
       "    </tr>\n",
       "    <tr>\n",
       "      <th>27</th>\n",
       "      <td>28</td>\n",
       "      <td>Vegas Golden Knights</td>\n",
       "      <td>56</td>\n",
       "      <td>2735.2167</td>\n",
       "      <td>40</td>\n",
       "      <td>14</td>\n",
       "      <td>2</td>\n",
       "      <td>39</td>\n",
       "      <td>82</td>\n",
       "      <td>0.732</td>\n",
       "      <td>...</td>\n",
       "      <td>490</td>\n",
       "      <td>53.02</td>\n",
       "      <td>20</td>\n",
       "      <td>12</td>\n",
       "      <td>62.50</td>\n",
       "      <td>3.62</td>\n",
       "      <td>97.55</td>\n",
       "      <td>9.58</td>\n",
       "      <td>92.15</td>\n",
       "      <td>1.017</td>\n",
       "    </tr>\n",
       "    <tr>\n",
       "      <th>28</th>\n",
       "      <td>29</td>\n",
       "      <td>Minnesota Wild</td>\n",
       "      <td>56</td>\n",
       "      <td>2678.9833</td>\n",
       "      <td>35</td>\n",
       "      <td>16</td>\n",
       "      <td>5</td>\n",
       "      <td>34</td>\n",
       "      <td>75</td>\n",
       "      <td>0.670</td>\n",
       "      <td>...</td>\n",
       "      <td>628</td>\n",
       "      <td>45.25</td>\n",
       "      <td>15</td>\n",
       "      <td>17</td>\n",
       "      <td>46.88</td>\n",
       "      <td>2.89</td>\n",
       "      <td>97.29</td>\n",
       "      <td>10.38</td>\n",
       "      <td>91.88</td>\n",
       "      <td>1.023</td>\n",
       "    </tr>\n",
       "    <tr>\n",
       "      <th>29</th>\n",
       "      <td>30</td>\n",
       "      <td>Los Angeles Kings</td>\n",
       "      <td>56</td>\n",
       "      <td>2701.0833</td>\n",
       "      <td>21</td>\n",
       "      <td>28</td>\n",
       "      <td>7</td>\n",
       "      <td>20</td>\n",
       "      <td>49</td>\n",
       "      <td>0.438</td>\n",
       "      <td>...</td>\n",
       "      <td>502</td>\n",
       "      <td>52.42</td>\n",
       "      <td>6</td>\n",
       "      <td>13</td>\n",
       "      <td>31.58</td>\n",
       "      <td>1.08</td>\n",
       "      <td>97.41</td>\n",
       "      <td>7.61</td>\n",
       "      <td>91.02</td>\n",
       "      <td>0.986</td>\n",
       "    </tr>\n",
       "    <tr>\n",
       "      <th>30</th>\n",
       "      <td>31</td>\n",
       "      <td>Ottawa Senators</td>\n",
       "      <td>56</td>\n",
       "      <td>2689.4500</td>\n",
       "      <td>23</td>\n",
       "      <td>28</td>\n",
       "      <td>5</td>\n",
       "      <td>21</td>\n",
       "      <td>51</td>\n",
       "      <td>0.455</td>\n",
       "      <td>...</td>\n",
       "      <td>642</td>\n",
       "      <td>47.42</td>\n",
       "      <td>14</td>\n",
       "      <td>19</td>\n",
       "      <td>42.42</td>\n",
       "      <td>2.42</td>\n",
       "      <td>97.04</td>\n",
       "      <td>8.01</td>\n",
       "      <td>90.71</td>\n",
       "      <td>0.987</td>\n",
       "    </tr>\n",
       "  </tbody>\n",
       "</table>\n",
       "<p>31 rows × 72 columns</p>\n",
       "</div>"
      ],
      "text/plain": [
       "    Unnamed: 0                   Team  GP        TOI   W   L  OTL  ROW  \\\n",
       "0            1    Pittsburgh Penguins  56  2765.7167  37  16    3   34   \n",
       "1            2    Philadelphia Flyers  56  2716.9667  25  23    8   22   \n",
       "2            3     Chicago Blackhawks  56  2716.9500  24  25    7   22   \n",
       "3            4    Tampa Bay Lightning  56  2628.2333  36  17    3   35   \n",
       "4            5     Montreal Canadiens  56  2736.7167  24  21   11   23   \n",
       "5            6    Toronto Maple Leafs  56  2751.7333  35  14    7   34   \n",
       "6            7      Vancouver Canucks  56  2681.7833  23  29    4   20   \n",
       "7            8        Edmonton Oilers  56  2738.9833  35  19    2   35   \n",
       "8            9         St Louis Blues  56  2739.7167  27  20    9   25   \n",
       "9           10     Colorado Avalanche  56  2641.6333  39  13    4   39   \n",
       "10          11    Washington Capitals  56  2724.3167  36  15    5   33   \n",
       "11          12         Buffalo Sabres  56  2811.8333  15  34    7   11   \n",
       "12          13          Boston Bruins  56  2694.3333  33  16    7   29   \n",
       "13          14      New Jersey Devils  56  2741.8000  19  30    7   19   \n",
       "14          15     New York Islanders  56  2793.4167  32  17    7   28   \n",
       "15          16       New York Rangers  56  2688.1833  27  23    6   26   \n",
       "16          17           Dallas Stars  56  2765.2333  23  19   14   21   \n",
       "17          18       Florida Panthers  56  2651.0833  37  14    5   36   \n",
       "18          19    Carolina Hurricanes  56  2710.6833  36  12    8   32   \n",
       "19          20      Detroit Red Wings  56  2729.8500  19  27   10   17   \n",
       "20          21  Columbus Blue Jackets  56  2838.5833  18  26   12   15   \n",
       "21          22    Nashville Predators  56  2702.5833  31  23    2   26   \n",
       "22          23         Calgary Flames  56  2662.0000  26  27    3   25   \n",
       "23          24          Winnipeg Jets  56  2725.6333  30  23    3   30   \n",
       "24          25        San Jose Sharks  56  2688.3000  21  28    7   16   \n",
       "25          26        Arizona Coyotes  56  2680.3333  24  26    6   21   \n",
       "26          27          Anaheim Ducks  56  2764.7667  17  30    9   15   \n",
       "27          28   Vegas Golden Knights  56  2735.2167  40  14    2   39   \n",
       "28          29         Minnesota Wild  56  2678.9833  35  16    5   34   \n",
       "29          30      Los Angeles Kings  56  2701.0833  21  28    7   20   \n",
       "30          31        Ottawa Senators  56  2689.4500  23  28    5   21   \n",
       "\n",
       "    Points  Point %  ...  LDSA  LDSF%  LDGF  LDGA  LDGF%  LDSH%  LDSV%    SH%  \\\n",
       "0       77    0.688  ...   587  49.53    16    13  55.17   2.78  97.79   9.38   \n",
       "1       58    0.518  ...   572  51.19    11    21  34.38   1.83  96.33   8.26   \n",
       "2       55    0.491  ...   596  46.50    11    15  42.31   2.12  97.48   7.95   \n",
       "3       75    0.670  ...   479  52.57    16    12  57.14   3.01  97.49   8.43   \n",
       "4       59    0.527  ...   512  55.71    14     8  63.64   2.17  98.44   7.50   \n",
       "5       77    0.688  ...   553  46.15    15    18  45.45   3.16  96.75   9.68   \n",
       "6       50    0.446  ...   574  50.30    14    10  58.33   2.41  98.26   7.95   \n",
       "7       72    0.643  ...   570  49.20    12    17  41.38   2.17  97.02   8.88   \n",
       "8       63    0.563  ...   557  48.90    14    17  45.16   2.63  96.95   8.23   \n",
       "9       82    0.732  ...   448  58.75    20    10  66.67   3.13  97.77   8.87   \n",
       "10      77    0.688  ...   579  50.64    27    16  62.79   4.55  97.24  10.07   \n",
       "11      37    0.330  ...   713  46.55    18    25  41.86   2.90  96.49   6.69   \n",
       "12      73    0.652  ...   498  57.40    18    17  51.43   2.68  96.59   7.21   \n",
       "13      45    0.402  ...   611  48.66    17    21  44.74   2.94  96.56   7.77   \n",
       "14      71    0.634  ...   569  46.97    15    15  50.00   2.98  97.36   8.55   \n",
       "15      60    0.536  ...   574  49.29    24    18  57.14   4.30  96.86   9.32   \n",
       "16      60    0.536  ...   503  52.95     6    22  21.43   1.06  95.63   7.45   \n",
       "17      79    0.705  ...   562  53.21    24    11  68.57   3.76  98.04   7.90   \n",
       "18      80    0.714  ...   508  54.56    16     9  64.00   2.62  98.23   7.38   \n",
       "19      48    0.429  ...   652  44.46    14    15  48.28   2.68  97.70   7.22   \n",
       "20      48    0.429  ...   679  48.60    20    23  46.51   3.12  96.61   7.19   \n",
       "21      64    0.571  ...   642  48.02    17    17  50.00   2.87  97.35   7.73   \n",
       "22      55    0.491  ...   534  50.46    15    10  60.00   2.76  98.13   8.54   \n",
       "23      63    0.563  ...   538  50.51     6     8  42.86   1.09  98.51   8.56   \n",
       "24      49    0.438  ...   595  45.11    15    23  39.47   3.07  96.13   8.05   \n",
       "25      54    0.482  ...   520  50.19    11    12  47.83   2.10  97.69   8.12   \n",
       "26      43    0.384  ...   545  46.62    13    10  56.52   2.73  98.17   8.26   \n",
       "27      82    0.732  ...   490  53.02    20    12  62.50   3.62  97.55   9.58   \n",
       "28      75    0.670  ...   628  45.25    15    17  46.88   2.89  97.29  10.38   \n",
       "29      49    0.438  ...   502  52.42     6    13  31.58   1.08  97.41   7.61   \n",
       "30      51    0.455  ...   642  47.42    14    19  42.42   2.42  97.04   8.01   \n",
       "\n",
       "      SV%    PDO  \n",
       "0   92.50  1.019  \n",
       "1   89.54  0.978  \n",
       "2   91.67  0.996  \n",
       "3   92.11  1.005  \n",
       "4   91.37  0.989  \n",
       "5   92.36  1.020  \n",
       "6   91.11  0.991  \n",
       "7   91.56  1.004  \n",
       "8   91.62  0.998  \n",
       "9   91.67  1.005  \n",
       "10  91.64  1.017  \n",
       "11  91.06  0.977  \n",
       "12  92.04  0.992  \n",
       "13  91.12  0.989  \n",
       "14  93.11  1.017  \n",
       "15  92.03  1.013  \n",
       "16  91.99  0.994  \n",
       "17  92.62  1.005  \n",
       "18  93.53  1.009  \n",
       "19  92.15  0.994  \n",
       "20  91.28  0.985  \n",
       "21  93.57  1.013  \n",
       "22  91.52  1.001  \n",
       "23  92.42  1.010  \n",
       "24  90.37  0.984  \n",
       "25  91.22  0.993  \n",
       "26  91.06  0.993  \n",
       "27  92.15  1.017  \n",
       "28  91.88  1.023  \n",
       "29  91.02  0.986  \n",
       "30  90.71  0.987  \n",
       "\n",
       "[31 rows x 72 columns]"
      ]
     },
     "execution_count": 4,
     "metadata": {},
     "output_type": "execute_result"
    }
   ],
   "source": [
    "# Using .head to see the layout\n",
    "team_df_21.head(32)"
   ]
  },
  {
   "cell_type": "markdown",
   "id": "bb33959a",
   "metadata": {},
   "source": [
    "Since I couldn't see all 72 columns with `.head` I decided to use `.info` to see all the column names and their data types. "
   ]
  },
  {
   "cell_type": "code",
   "execution_count": 5,
   "id": "392f16f5",
   "metadata": {
    "scrolled": true
   },
   "outputs": [
    {
     "name": "stdout",
     "output_type": "stream",
     "text": [
      "<class 'pandas.core.frame.DataFrame'>\n",
      "RangeIndex: 31 entries, 0 to 30\n",
      "Data columns (total 72 columns):\n",
      " #   Column      Non-Null Count  Dtype  \n",
      "---  ------      --------------  -----  \n",
      " 0   Unnamed: 0  31 non-null     int64  \n",
      " 1   Team        31 non-null     object \n",
      " 2   GP          31 non-null     int64  \n",
      " 3   TOI         31 non-null     float64\n",
      " 4   W           31 non-null     int64  \n",
      " 5   L           31 non-null     int64  \n",
      " 6   OTL         31 non-null     int64  \n",
      " 7   ROW         31 non-null     int64  \n",
      " 8   Points      31 non-null     int64  \n",
      " 9   Point %     31 non-null     float64\n",
      " 10  CF          31 non-null     int64  \n",
      " 11  CA          31 non-null     int64  \n",
      " 12  CF%         31 non-null     float64\n",
      " 13  FF          31 non-null     int64  \n",
      " 14  FA          31 non-null     int64  \n",
      " 15  FF%         31 non-null     float64\n",
      " 16  SF          31 non-null     int64  \n",
      " 17  SA          31 non-null     int64  \n",
      " 18  SF%         31 non-null     float64\n",
      " 19  GF          31 non-null     int64  \n",
      " 20  GA          31 non-null     int64  \n",
      " 21  GF%         31 non-null     float64\n",
      " 22  xGF         31 non-null     float64\n",
      " 23  xGA         31 non-null     float64\n",
      " 24  xGF%        31 non-null     float64\n",
      " 25  SCF         31 non-null     int64  \n",
      " 26  SCA         31 non-null     int64  \n",
      " 27  SCF%        31 non-null     float64\n",
      " 28  SCSF        31 non-null     int64  \n",
      " 29  SCSA        31 non-null     int64  \n",
      " 30  SCSF%       31 non-null     float64\n",
      " 31  SCGF        31 non-null     int64  \n",
      " 32  SCGA        31 non-null     int64  \n",
      " 33  SCGF%       31 non-null     float64\n",
      " 34  SCSH%       31 non-null     float64\n",
      " 35  SCSV%       31 non-null     float64\n",
      " 36  HDCF        31 non-null     int64  \n",
      " 37  HDCA        31 non-null     int64  \n",
      " 38  HDCF%       31 non-null     float64\n",
      " 39  HDSF        31 non-null     int64  \n",
      " 40  HDSA        31 non-null     int64  \n",
      " 41  HDSF%       31 non-null     float64\n",
      " 42  HDGF        31 non-null     int64  \n",
      " 43  HDGA        31 non-null     int64  \n",
      " 44  HDGF%       31 non-null     float64\n",
      " 45  HDSH%       31 non-null     float64\n",
      " 46  HDSV%       31 non-null     float64\n",
      " 47  MDCF        31 non-null     int64  \n",
      " 48  MDCA        31 non-null     int64  \n",
      " 49  MDCF%       31 non-null     float64\n",
      " 50  MDSF        31 non-null     int64  \n",
      " 51  MDSA        31 non-null     int64  \n",
      " 52  MDSF%       31 non-null     float64\n",
      " 53  MDGF        31 non-null     int64  \n",
      " 54  MDGA        31 non-null     int64  \n",
      " 55  MDGF%       31 non-null     float64\n",
      " 56  MDSH%       31 non-null     float64\n",
      " 57  MDSV%       31 non-null     float64\n",
      " 58  LDCF        31 non-null     int64  \n",
      " 59  LDCA        31 non-null     int64  \n",
      " 60  LDCF%       31 non-null     float64\n",
      " 61  LDSF        31 non-null     int64  \n",
      " 62  LDSA        31 non-null     int64  \n",
      " 63  LDSF%       31 non-null     float64\n",
      " 64  LDGF        31 non-null     int64  \n",
      " 65  LDGA        31 non-null     int64  \n",
      " 66  LDGF%       31 non-null     float64\n",
      " 67  LDSH%       31 non-null     float64\n",
      " 68  LDSV%       31 non-null     float64\n",
      " 69  SH%         31 non-null     float64\n",
      " 70  SV%         31 non-null     float64\n",
      " 71  PDO         31 non-null     float64\n",
      "dtypes: float64(32), int64(39), object(1)\n",
      "memory usage: 17.6+ KB\n"
     ]
    }
   ],
   "source": [
    "# Using .info\n",
    "team_df_21.info()"
   ]
  },
  {
   "cell_type": "markdown",
   "id": "96578272",
   "metadata": {},
   "source": [
    "# Networking:\n",
    "\n",
    "At this point, I began scouring the internet for information on how to build hockey models. As hockey analytics are still in their early stages of use, I decided the best course of action would be to reach out to many of the analytics gurus and beat writers I follow on Twitter and LinkedIn. This was easily the most interesting part of my project; cold contacting strangers was never something I anticipated having to do. I reached out to Sheng Peng [@ShengPeng](https://twitter.com/Sheng_Peng) beat writer for the San Jose Sharks, Patrick Bacon [@TopDownHockey](https://twitter.com/TopDownHockey) analytics guru on Twitter, Corey Sznajder [@ShutdownLine](https://twitter.com/ShutdownLine) analytics guru on Twitter, Sean Tierney [@ChartingHockey](https://twitter.com/ChartingHockey) Director of Hockey Services for [@Sportlogiq](https://twitter.com/Sportlogiq), Dom Luszczyszyn [@domluszczyszyn](https://twitter.com/domluszczyszyn) Writer for The Athletic NHL, Micah Blake McCurdy [@IneffectiveMath](https://twitter.com/IneffectiveMath) analytics guru on Twitter, Josh and Luke from [EvolvingHockey](https://twitter.com/EvolvingWild) analytics gurus on Twitter, among others. Several of them were kind enough to respond and guide me towards websites with helpful content as well as ideas on which models to use. \n",
    "\n",
    "The most helpful person has actually been Patrick Bacon. He has helped me with some of the issues that I ran into with my code, and double checked to make sure that my first Monte Carlo was accurate. I am also currently a Moderator on [HFboards.com](https://hfboards.mandatory.com/) and would often post his tweets of player valuation models in discussion threads. Another poster on HFboards posted one of his tweets and attributed it to a user on the San Jose Sharks board. I immediately messaged Patrick on twitter asking if he was in fact a poster on the San Jose Sharks HFboards. He said he was, and funnily enough, we had actually known each other for over 5 years and been discussing advanced stats the entire time. \n",
    "\n",
    "I have learned a lot by cold contacting people on twitter and LinkedIn. It is an incredibly valuable resource and it is always amazing to see how generous people are with their time and knowledge if you just ask. It is certainly something that I will continue to do going forward. \n",
    "\n",
    "# Building a Model:\n",
    "\n",
    "There were two models that were suggested to me as starting points for getting into hockey analytics. The first was the BradleyTerry Model using the BradleyTerry2 package in R. The second one was creating a Monte Carlo Simulation. I looked into both, but due to my lack of knowledge of R, it seemed like the right choice would be a Monte Carlo. \n",
    "\n",
    "I looked into some built in packages for Monte Carlo Simulations in python, but I felt that I needed an overall understanding of what one entailed, so I decided to build some custom ones myself. I began watching sports gambling videos on YouTube that taught how to build a simple Monte Carlo. I learned how to calculate expected scoring rates and save rates that then could be applied to the model and cycle through it 100,000 times. \n",
    "\n",
    "For my initial model I decided to go with just 4 stats along with the team names. Save percentage, shooting percentage, shots for a game, and shots against per game. For each team I would have to create an expected shooting percentage and an expected number of shots on goal. I chose to use the San Jose Sharks and Vegas Golden Knights for my initial test. \n",
    "\n",
    "To calculate the expected save percentage is as follows:\n",
    "\n",
    "      a = San Jose Shooting Percentage - League Average Shooting Percentage\n",
    "      b = Vegas Golden Knights Shooting Percentage against - League Average Shooting Percentage\n",
    "      a + b + League Average Shooting Percentage = The Expected Shooting percentage for the Sharks against Vegas\n",
    "      \n",
    "I would then create expectations for each stat for both teams that I wanted to use in my function. "
   ]
  },
  {
   "cell_type": "markdown",
   "id": "d698fd92",
   "metadata": {},
   "source": [
    "## Calculating the Necessary Stats before the Expectations"
   ]
  },
  {
   "cell_type": "code",
   "execution_count": 6,
   "id": "aa7cd0d2",
   "metadata": {},
   "outputs": [
    {
     "data": {
      "text/plain": [
       "91.74"
      ]
     },
     "execution_count": 6,
     "metadata": {},
     "output_type": "execute_result"
    }
   ],
   "source": [
    "# Calculating the league average save%\n",
    "league_average_SV_pct = (round((team_df_21['SV%']).mean(),2))\n",
    "league_average_SV_pct"
   ]
  },
  {
   "cell_type": "code",
   "execution_count": 7,
   "id": "f3211577",
   "metadata": {},
   "outputs": [
    {
     "data": {
      "text/plain": [
       "8.28"
      ]
     },
     "execution_count": 7,
     "metadata": {},
     "output_type": "execute_result"
    }
   ],
   "source": [
    "# Calculating the league average shooting% \n",
    "league_average_SH_pct = (round((team_df_21['SH%']).mean(),2))\n",
    "league_average_SH_pct"
   ]
  },
  {
   "cell_type": "code",
   "execution_count": 8,
   "id": "080c39d3",
   "metadata": {},
   "outputs": [
    {
     "data": {
      "text/plain": [
       "90.37"
      ]
     },
     "execution_count": 8,
     "metadata": {},
     "output_type": "execute_result"
    }
   ],
   "source": [
    "# Calculating the San Jose Sharks save percentage using the index number from the dataframe and rounding the number\n",
    "SJ_SV_pct = round(team_df_21['SV%'][24],2)\n",
    "SJ_SV_pct"
   ]
  },
  {
   "cell_type": "code",
   "execution_count": 9,
   "id": "4cbdf830",
   "metadata": {},
   "outputs": [
    {
     "data": {
      "image/png": "[encoded data removed]",
      "text/plain": [
       "<IPython.core.display.Image object>"
      ]
     },
     "execution_count": 9,
     "metadata": {},
     "output_type": "execute_result"
    }
   ],
   "source": [
    "from IPython.display import Image\n",
    "Image(\"tableauimage.png\")"
   ]
  },
  {
   "cell_type": "markdown",
   "id": "16f29698",
   "metadata": {},
   "source": [
    "#### The San Jose Sharks save percentage was near the bottom of the league. "
   ]
  },
  {
   "cell_type": "code",
   "execution_count": 10,
   "id": "6937b10f",
   "metadata": {
    "scrolled": true
   },
   "outputs": [
    {
     "data": {
      "text/plain": [
       "92.15"
      ]
     },
     "execution_count": 10,
     "metadata": {},
     "output_type": "execute_result"
    }
   ],
   "source": [
    "# Calculating Vegas' save percentage using the index number from the dataframe and rounding the number\n",
    "VG_SV_pct = round(team_df_21['SV%'][27],2)\n",
    "VG_SV_pct"
   ]
  },
  {
   "cell_type": "markdown",
   "id": "9d8b5c5a",
   "metadata": {},
   "source": [
    "#### We can see the disparity in overall team abilities just based on the markedly better save percentage for Vegas. "
   ]
  },
  {
   "cell_type": "code",
   "execution_count": 11,
   "id": "1c516c81",
   "metadata": {},
   "outputs": [
    {
     "data": {
      "text/plain": [
       "-1.37"
      ]
     },
     "execution_count": 11,
     "metadata": {},
     "output_type": "execute_result"
    }
   ],
   "source": [
    "# Calculating the Sharks save percentage compared to the league average\n",
    "round((SJ_SV_pct - league_average_SV_pct),2)"
   ]
  },
  {
   "cell_type": "markdown",
   "id": "8aeb9fb8",
   "metadata": {},
   "source": [
    "#### The San Jose Sharks goalies were below average, saving 1.3% fewer shots than the average team. "
   ]
  },
  {
   "cell_type": "code",
   "execution_count": 12,
   "id": "71005cf0",
   "metadata": {},
   "outputs": [
    {
     "data": {
      "text/plain": [
       "0.41"
      ]
     },
     "execution_count": 12,
     "metadata": {},
     "output_type": "execute_result"
    }
   ],
   "source": [
    "# Calculating Vegas' save percentage compared to the league average\n",
    "round((VG_SV_pct - league_average_SV_pct),2)"
   ]
  },
  {
   "cell_type": "markdown",
   "id": "15584e11",
   "metadata": {},
   "source": [
    "#### Vegas' goalies were above average, saving .41% more than the average team. "
   ]
  },
  {
   "cell_type": "code",
   "execution_count": 13,
   "id": "b03e62db",
   "metadata": {},
   "outputs": [
    {
     "data": {
      "text/plain": [
       "8.05"
      ]
     },
     "execution_count": 13,
     "metadata": {},
     "output_type": "execute_result"
    }
   ],
   "source": [
    "# Caluclating the San Jose Sharks shooting percentage using the row index and rounding to 2 decimal places\n",
    "SJ_Shooting_pct = round(team_df_21['SH%'][24],2)\n",
    "SJ_Shooting_pct"
   ]
  },
  {
   "cell_type": "code",
   "execution_count": 14,
   "id": "0925425c",
   "metadata": {
    "scrolled": true
   },
   "outputs": [
    {
     "data": {
      "text/plain": [
       "-0.22999999999999865"
      ]
     },
     "execution_count": 14,
     "metadata": {},
     "output_type": "execute_result"
    }
   ],
   "source": [
    "# Calculating the Sharks shooting percentage compared to league average\n",
    "SJ_Shooting_pct - league_average_SH_pct"
   ]
  },
  {
   "cell_type": "markdown",
   "id": "71ef28ad",
   "metadata": {},
   "source": [
    "#### The Sharks also shot poorly as a team as well. Their shooting percentage is again below league average.  "
   ]
  },
  {
   "cell_type": "code",
   "execution_count": 15,
   "id": "fe15c636",
   "metadata": {},
   "outputs": [
    {
     "data": {
      "text/plain": [
       "9.629999999999995"
      ]
     },
     "execution_count": 15,
     "metadata": {},
     "output_type": "execute_result"
    }
   ],
   "source": [
    "# Calculating the shooting percentage against the Sharks\n",
    "SJ_SH_pct_against = 100 - SJ_SV_pct\n",
    "SJ_SH_pct_against"
   ]
  },
  {
   "cell_type": "markdown",
   "id": "1ca6f90c",
   "metadata": {},
   "source": [
    "#### Teams shot very well against the San Jose Sharks"
   ]
  },
  {
   "cell_type": "code",
   "execution_count": 16,
   "id": "d4f29dac",
   "metadata": {},
   "outputs": [
    {
     "data": {
      "text/plain": [
       "9.58"
      ]
     },
     "execution_count": 16,
     "metadata": {},
     "output_type": "execute_result"
    }
   ],
   "source": [
    "# Calculating Vegas' shooting percentage\n",
    "VG_Shooting_pct = team_df_21['SH%'][27]\n",
    "VG_Shooting_pct"
   ]
  },
  {
   "cell_type": "code",
   "execution_count": 17,
   "id": "38c72f89",
   "metadata": {},
   "outputs": [
    {
     "data": {
      "text/plain": [
       "1.3000000000000007"
      ]
     },
     "execution_count": 17,
     "metadata": {},
     "output_type": "execute_result"
    }
   ],
   "source": [
    "VG_Shooting_pct - league_average_SH_pct"
   ]
  },
  {
   "cell_type": "code",
   "execution_count": 18,
   "id": "a66ccad8",
   "metadata": {},
   "outputs": [
    {
     "data": {
      "text/plain": [
       "7.849999999999994"
      ]
     },
     "execution_count": 18,
     "metadata": {},
     "output_type": "execute_result"
    }
   ],
   "source": [
    "# Calculating the shooting percentage against Vegas\n",
    "VG_SH_pct_against = 100 - VG_SV_pct\n",
    "VG_SH_pct_against"
   ]
  },
  {
   "cell_type": "markdown",
   "id": "ff5771e9",
   "metadata": {},
   "source": [
    "#### Vegas has a very high shooting percentage shooting 1.3% higher than league average. "
   ]
  },
  {
   "cell_type": "code",
   "execution_count": 19,
   "id": "66513ef2",
   "metadata": {},
   "outputs": [
    {
     "data": {
      "text/plain": [
       "90.42"
      ]
     },
     "execution_count": 19,
     "metadata": {},
     "output_type": "execute_result"
    }
   ],
   "source": [
    "# I also need to calculate the save percentage of the opponents of Vegas\n",
    "VG_SV_pct_against = 100 - VG_Shooting_pct\n",
    "VG_SV_pct_against"
   ]
  },
  {
   "cell_type": "code",
   "execution_count": 20,
   "id": "70919a68",
   "metadata": {},
   "outputs": [
    {
     "data": {
      "text/plain": [
       "91.95"
      ]
     },
     "execution_count": 20,
     "metadata": {},
     "output_type": "execute_result"
    }
   ],
   "source": [
    "# Calculating the save percentage against for San Jose\n",
    "SJ_SV_pct_against = 100 - SJ_Shooting_pct\n",
    "SJ_SV_pct_against"
   ]
  },
  {
   "cell_type": "markdown",
   "id": "a0e9eb22",
   "metadata": {},
   "source": [
    "#### Now I need to calculate the number of shots generated by each team. "
   ]
  },
  {
   "cell_type": "code",
   "execution_count": 21,
   "id": "c9bac910",
   "metadata": {
    "scrolled": true
   },
   "outputs": [
    {
     "data": {
      "text/plain": [
       "23.303571428571427"
      ]
     },
     "execution_count": 21,
     "metadata": {},
     "output_type": "execute_result"
    }
   ],
   "source": [
    "# Calculating the number of shots the Sharks averaged per game. \n",
    "SJ_Shots_per_game = ((team_df_21['SF'][24]/56))\n",
    "SJ_Shots_per_game"
   ]
  },
  {
   "cell_type": "markdown",
   "id": "d6181853",
   "metadata": {},
   "source": [
    "#### San Jose generated 23.3 shots per game, which will be rounded down to 23. "
   ]
  },
  {
   "cell_type": "code",
   "execution_count": 22,
   "id": "6306d6a0",
   "metadata": {},
   "outputs": [
    {
     "data": {
      "text/plain": [
       "25.160714285714285"
      ]
     },
     "execution_count": 22,
     "metadata": {},
     "output_type": "execute_result"
    }
   ],
   "source": [
    "# Calculating the number of shots the Vegas Golden Knights averaged per game.\n",
    "VG_Shots_per_game = ((team_df_21['SF'][27]/56))\n",
    "VG_Shots_per_game"
   ]
  },
  {
   "cell_type": "markdown",
   "id": "19f6bb74",
   "metadata": {},
   "source": [
    "#### Vegas generated 25.1 shots per game, which will be rounded down to 25. "
   ]
  },
  {
   "cell_type": "code",
   "execution_count": 23,
   "id": "0d1b3fbd",
   "metadata": {},
   "outputs": [
    {
     "data": {
      "text/plain": [
       "23.58179723502304"
      ]
     },
     "execution_count": 23,
     "metadata": {},
     "output_type": "execute_result"
    }
   ],
   "source": [
    "# Calculating the league average shots per game. I had to divide by 56 which is the total number of games played\n",
    "# by each NHL team.\n",
    "league_average_shot_per_game = ((team_df_21['SF'].mean())/56)\n",
    "league_average_shot_per_game"
   ]
  },
  {
   "cell_type": "markdown",
   "id": "5b4ea9f7",
   "metadata": {},
   "source": [
    "#### The league average for shots per game is 23.58. "
   ]
  },
  {
   "cell_type": "code",
   "execution_count": 24,
   "id": "a733186b",
   "metadata": {},
   "outputs": [
    {
     "data": {
      "text/plain": [
       "23.58179723502304"
      ]
     },
     "execution_count": 24,
     "metadata": {},
     "output_type": "execute_result"
    }
   ],
   "source": [
    "# Calculating the league average shots against per game. This one was actually funny, because obviously\n",
    "# it has to be the same number as shots for across the entire league. \n",
    "league_average_shot_against_game = ((team_df_21['SA'].mean())/56)\n",
    "league_average_shot_against_game"
   ]
  },
  {
   "cell_type": "code",
   "execution_count": 25,
   "id": "c25ee401",
   "metadata": {},
   "outputs": [
    {
     "data": {
      "text/plain": [
       "22.053571428571427"
      ]
     },
     "execution_count": 25,
     "metadata": {},
     "output_type": "execute_result"
    }
   ],
   "source": [
    "# Calculating how many shots Vegas allowed per game. \n",
    "VG_Shots_against_game = ((team_df_21['SA'][27]/56))\n",
    "VG_Shots_against_game"
   ]
  },
  {
   "cell_type": "markdown",
   "id": "18c9815e",
   "metadata": {},
   "source": [
    "#### Vegas allowed only 22 shots against per game. "
   ]
  },
  {
   "cell_type": "code",
   "execution_count": 26,
   "id": "1c0cfc71",
   "metadata": {},
   "outputs": [
    {
     "data": {
      "text/plain": [
       "24.839285714285715"
      ]
     },
     "execution_count": 26,
     "metadata": {},
     "output_type": "execute_result"
    }
   ],
   "source": [
    "# Calculating how many shots the Sharks allowed per game. \n",
    "SJ_Shots_against_game = ((team_df_21['SA'][24]/56))\n",
    "SJ_Shots_against_game"
   ]
  },
  {
   "cell_type": "markdown",
   "id": "71b575bf",
   "metadata": {},
   "source": [
    "#### San Jose allowed 24.8 shots against per game which will be rounded to 25. "
   ]
  },
  {
   "cell_type": "markdown",
   "id": "e49d58f4",
   "metadata": {},
   "source": [
    "## Calculating the expectations"
   ]
  },
  {
   "cell_type": "code",
   "execution_count": 27,
   "id": "12861927",
   "metadata": {
    "scrolled": false
   },
   "outputs": [
    {
     "data": {
      "text/plain": [
       "10.93"
      ]
     },
     "execution_count": 27,
     "metadata": {},
     "output_type": "execute_result"
    }
   ],
   "source": [
    "# Calculating Vegas' expected shooting percentage against the Sharks\n",
    "# Using Vegas' shooting% - the league average shooting% +\n",
    "# San Jose's shooting% against - the league average shooting% +\n",
    "# the league average shooting percentage\n",
    "(round((VG_Shooting_pct - league_average_SH_pct),2)) + (round((SJ_SH_pct_against - league_average_SH_pct),2)) + league_average_SH_pct\n"
   ]
  },
  {
   "cell_type": "markdown",
   "id": "da09188b",
   "metadata": {},
   "source": [
    "#### Vegas has an expected shooting percentage of 10.93% against the Sharks. "
   ]
  },
  {
   "cell_type": "code",
   "execution_count": 28,
   "id": "9f5e1681",
   "metadata": {},
   "outputs": [
    {
     "data": {
      "text/plain": [
       "7.619999999999999"
      ]
     },
     "execution_count": 28,
     "metadata": {},
     "output_type": "execute_result"
    }
   ],
   "source": [
    "# Calculating the Sharks' expected shooting percentage against the Golden Knights\n",
    "(round((SJ_Shooting_pct - league_average_SH_pct),2)) + (round((VG_SH_pct_against - league_average_SH_pct),2)) + league_average_SH_pct\n"
   ]
  },
  {
   "cell_type": "markdown",
   "id": "5ed75499",
   "metadata": {},
   "source": [
    "#### San Jose has an expected shooting percentage of 7.62% against Vegas. \n",
    "\n",
    "We can already see that there is a quite a discrepancy between the two teams just in terms of shooting percentage. "
   ]
  },
  {
   "cell_type": "code",
   "execution_count": 29,
   "id": "312e92bf",
   "metadata": {},
   "outputs": [
    {
     "data": {
      "text/plain": [
       "22.0"
      ]
     },
     "execution_count": 29,
     "metadata": {},
     "output_type": "execute_result"
    }
   ],
   "source": [
    "# Calculating the Sharks' expected shots on goal against Vegas\n",
    "(round(((round((SJ_Shots_per_game - league_average_shot_per_game),2)) \n",
    "  + (round((VG_Shots_against_game - league_average_shot_against_game),2)) + league_average_shot_per_game),0))"
   ]
  },
  {
   "cell_type": "markdown",
   "id": "c8323714",
   "metadata": {},
   "source": [
    "#### San Jose will generate 22 shots against Vegas."
   ]
  },
  {
   "cell_type": "code",
   "execution_count": 30,
   "id": "92f4625e",
   "metadata": {},
   "outputs": [
    {
     "data": {
      "text/plain": [
       "26.0"
      ]
     },
     "execution_count": 30,
     "metadata": {},
     "output_type": "execute_result"
    }
   ],
   "source": [
    "# Calculating the Golden Knights' expected shots on goal against San Jose\n",
    "(round(((round((VG_Shots_per_game - league_average_shot_per_game),2)) \n",
    "  + (round((SJ_Shots_against_game - league_average_shot_against_game),2)) + league_average_shot_per_game),0))"
   ]
  },
  {
   "cell_type": "markdown",
   "id": "f02de875",
   "metadata": {},
   "source": [
    "#### Vegas will generate 26 shots againt the Sharks."
   ]
  },
  {
   "cell_type": "markdown",
   "id": "c35bfde1",
   "metadata": {},
   "source": [
    "## Building the Function to Run a Basic Model\n",
    "\n",
    "Now that I have the data for my basic Monte Carlo, I decided to first build a basic 1 game simulation. "
   ]
  },
  {
   "cell_type": "code",
   "execution_count": 31,
   "id": "141ba43d",
   "metadata": {},
   "outputs": [],
   "source": [
    "# Defining the function using the teams, their shots in a game and their shooting percentages. \n",
    "# Since I manually calculated all this information, I will have to again enter it in myself.\n",
    "def Monte_Carlo_sim(team1, team2, team1_shots, team2_shots, team1sh_pct, team2sh_pct):\n",
    "    # Creating a list for goals scored by the teams\n",
    "    goals_scored_team1 = 0\n",
    "    goals_scored_team2 = 0\n",
    "    # Also creating a victory tally if I wanted to do a cumulative total\n",
    "    team1_victories = 0\n",
    "    team2_victories = 0\n",
    "    \n",
    "    # Setting up a for loop to run over the number of shots each team would generate\n",
    "    for k in range(1, team1_shots):\n",
    "        # using np.random.random to pick a random float between 0 and 1\n",
    "        r = np.random.random()\n",
    "        if(r<=team1sh_pct):\n",
    "            # if the float is below the team's expected shooting percentage, they scored a goal\n",
    "            # otherwise, no goal is scored\n",
    "            goals_scored_team1 += 1\n",
    "        else:\n",
    "            goals_scored_team1 += 0\n",
    "        \n",
    "    # Setting up the for loop for the second team following the same parameters as above  \n",
    "    for k in range(1, team2_shots):\n",
    "        r = np.random.random()\n",
    "        if(r<=team2sh_pct):\n",
    "            goals_scored_team2 += 1\n",
    "        else: \n",
    "            goals_scored_team2 += 0\n",
    "    \n",
    "    # using the goal scored totals to find out who the winner is.\n",
    "    # If team1 scores more than team2 they are the winner and vice versa. \n",
    "    # If the scores ends in a tie the game will go to overtime. \n",
    "    if goals_scored_team1 > goals_scored_team2:\n",
    "        print(f\"{team1} wins\")\n",
    "        team1_victories +=1\n",
    "    elif goals_scored_team2 > goals_scored_team1:\n",
    "        print(f\"{team2} wins\")\n",
    "        team2_victories +=1\n",
    "    elif goals_scored_team1 == goals_scored_team2:\n",
    "        print(\"Overtime\")\n",
    "    # Setting up a print statement with an F string \n",
    "    print(f'{team1} {goals_scored_team1}, {team2} {goals_scored_team2}, {team1} victories = {team1_victories}, {team2} victories = {team2_victories} ')\n",
    "    # in the end I decided not to do a cumulative count of wins"
   ]
  },
  {
   "cell_type": "code",
   "execution_count": 32,
   "id": "f2775093",
   "metadata": {},
   "outputs": [
    {
     "name": "stdout",
     "output_type": "stream",
     "text": [
      "Vegas Golden Knights wins\n",
      "San Jose Sharks 0, Vegas Golden Knights 3, San Jose Sharks victories = 0, Vegas Golden Knights victories = 1 \n"
     ]
    }
   ],
   "source": [
    "# Testing out the function to see how it works\n",
    "\n",
    "Monte_Carlo_sim('San Jose Sharks', 'Vegas Golden Knights', 22, 26, .0762, .1093) "
   ]
  },
  {
   "cell_type": "markdown",
   "id": "116dd193",
   "metadata": {},
   "source": [
    "## IT WORKS! \n",
    "\n",
    "Great, now to build a function and model that runs the simulation 100,000 times. I took my original function and built it up to track total victories, and calculate the percentage of the time that each team would win. "
   ]
  },
  {
   "cell_type": "code",
   "execution_count": 33,
   "id": "b426d882",
   "metadata": {},
   "outputs": [],
   "source": [
    "# defining a Monte Carlo simulation\n",
    "def Monte_Carlo_sim_prob(team1, team2, team1_shots, team2_shots, team1sh_pct, team2sh_pct):\n",
    "    # Creating a tally of victories for each team and the number of games that go to overtime\n",
    "    team1_victories = 0\n",
    "    team2_victories = 0\n",
    "    overtime = 0 \n",
    "    # Creating a for loop that runs 100,000 simulations of the game    \n",
    "    for i in range(0, 100000):\n",
    "        # Goals scored for each team\n",
    "        goals_scored_team1 = 0\n",
    "        goals_scored_team2 = 0\n",
    "        # A for loop for team1 shot attempts and outcomes\n",
    "        for k in range(0, team1_shots):\n",
    "            # using np.random.random to generate random floats between 1 and 0\n",
    "            # if the number hits below the shooting percentage threshold then a goal is scored\n",
    "            # otherwise the shot is saved by the goalie.\n",
    "            # I could have done the exact same thing with save percentages for the opposing goalies\n",
    "            # If the number was higher than the save perecentage, then a goal was scored.\n",
    "            r = np.random.random()\n",
    "            if(r<=team1sh_pct):\n",
    "                # Adding a goal if the shot falls below the set shooting percentage\n",
    "                goals_scored_team1 += 1\n",
    "                # Shot is saved, no goal is added\n",
    "            else:\n",
    "                goals_scored_team1 += 0\n",
    "\n",
    "\n",
    "        for k in range(0, team2_shots):\n",
    "            # Running the same for loop for team 2\n",
    "            r = np.random.random()\n",
    "            if(r<=team2sh_pct):\n",
    "                goals_scored_team2 += 1\n",
    "            else: \n",
    "                goals_scored_team2 += 0\n",
    "                \n",
    "        # Calculating which team won the game\n",
    "        # If team1 scored more, they get a victory\n",
    "        if goals_scored_team1 > goals_scored_team2:\n",
    "        # The victory is added to their total victories\n",
    "            team1_victories += 1\n",
    "        # The same is done for team 2\n",
    "        if goals_scored_team2 > goals_scored_team1:\n",
    "            team2_victories += 1\n",
    "        # the score is tied, the game goes into overtime\n",
    "        if goals_scored_team1 == goals_scored_team2:\n",
    "            overtime +=1 \n",
    "    # Printing the percent chance of team 1 winning, team 2 winning, and the game going to overtime\n",
    "    print(f'{team1} chances of winning:',team1_victories/1000,'%','\\n'\n",
    "    f'{team2} chances of winning:',team2_victories/1000,'%','\\n'\n",
    "    f'Percent chance the game will go to overtime:',overtime/1000,'%','\\n')"
   ]
  },
  {
   "cell_type": "code",
   "execution_count": 34,
   "id": "14c37612",
   "metadata": {},
   "outputs": [
    {
     "name": "stdout",
     "output_type": "stream",
     "text": [
      "San Jose Sharks chances of winning: 19.931 % \n",
      "Vegas Golden Knights chances of winning: 63.136 % \n",
      "Percent chance the game will go to overtime: 16.933 % \n",
      "\n"
     ]
    }
   ],
   "source": [
    "# Sample of the function with 100,000 games between San Jose and Vegas\n",
    "Monte_Carlo_sim_prob('San Jose Sharks', 'Vegas Golden Knights', 23, 27, .0762, .1093) "
   ]
  },
  {
   "cell_type": "markdown",
   "id": "c2db808b",
   "metadata": {},
   "source": [
    "## Awesome! \n",
    "\n",
    "So now I am able to run a Monte Carlo simulation 100,000 times using just shooting percentage and shots generated for each team to make a prediction on who might win the game. A good start, but now the fun begins. \n",
    "\n",
    "There are a few things that I would like to add to make the model more predictive and more robust. \n",
    "\n",
    "First I'd like to break down the shots by location. There are three offensive zone shot areas labeled low danger, high danger and medium danger areas. "
   ]
  },
  {
   "cell_type": "code",
   "execution_count": 35,
   "id": "2121194e",
   "metadata": {},
   "outputs": [
    {
     "data": {
      "image/png": "[encoded data removed]",
      "text/plain": [
       "<IPython.core.display.Image object>"
      ]
     },
     "execution_count": 35,
     "metadata": {},
     "output_type": "execute_result"
    }
   ],
   "source": [
    "from IPython.display import Image\n",
    "Image(\"shotlocations.png\")"
   ]
  },
  {
   "cell_type": "markdown",
   "id": "bde1e394",
   "metadata": {},
   "source": [
    "In order to do this, and increase my ease of processing I will create a new dataframe. In my new `Monte_carlo_df` I will use the team names, shooting percentage, save percentage, shots for, shots against, low danger shots for, low danger shots against, low danger save percentage, low danger shooting percentage, medium danger shots for, medium danger shots against, medium danger save percentage, medium danger shooting percentage, high danger shots for, high danger shots against, high danger save percentage and high danger shooting percentage. \n",
    "\n",
    "I also want to make my new Monte Carlo simulation only require the team names for the two teams to be entered, so I will set the index to the team names. "
   ]
  },
  {
   "cell_type": "code",
   "execution_count": 36,
   "id": "6e4e0300",
   "metadata": {},
   "outputs": [],
   "source": [
    "# Creating the new dataframe and selecting only the columns that I need\n",
    "Monte_carlo_df = team_df_21[['Team', 'SH%','SV%', 'SF','SA','LDSF', 'LDSA', 'LDSV%',\n",
    "                             'LDSH%', 'MDSF', 'MDSA', 'MDSV%', 'MDSH%',\n",
    "                             'HDSF', 'HDSA', 'HDSV%', 'HDSH%']]"
   ]
  },
  {
   "cell_type": "code",
   "execution_count": 37,
   "id": "c9b447a2",
   "metadata": {},
   "outputs": [],
   "source": [
    "# Changing the index to the 'Team' column\n",
    "Monte_carlo_df.set_index(\"Team\", inplace=True)"
   ]
  },
  {
   "cell_type": "code",
   "execution_count": 38,
   "id": "010ba853",
   "metadata": {
    "scrolled": true
   },
   "outputs": [
    {
     "data": {
      "text/html": [
       "<div>\n",
       "<style scoped>\n",
       "    .dataframe tbody tr th:only-of-type {\n",
       "        vertical-align: middle;\n",
       "    }\n",
       "\n",
       "    .dataframe tbody tr th {\n",
       "        vertical-align: top;\n",
       "    }\n",
       "\n",
       "    .dataframe thead th {\n",
       "        text-align: right;\n",
       "    }\n",
       "</style>\n",
       "<table border=\"1\" class=\"dataframe\">\n",
       "  <thead>\n",
       "    <tr style=\"text-align: right;\">\n",
       "      <th></th>\n",
       "      <th>SH%</th>\n",
       "      <th>SV%</th>\n",
       "      <th>SF</th>\n",
       "      <th>SA</th>\n",
       "      <th>LDSF</th>\n",
       "      <th>LDSA</th>\n",
       "      <th>LDSV%</th>\n",
       "      <th>LDSH%</th>\n",
       "      <th>MDSF</th>\n",
       "      <th>MDSA</th>\n",
       "      <th>MDSV%</th>\n",
       "      <th>MDSH%</th>\n",
       "      <th>HDSF</th>\n",
       "      <th>HDSA</th>\n",
       "      <th>HDSV%</th>\n",
       "      <th>HDSH%</th>\n",
       "    </tr>\n",
       "    <tr>\n",
       "      <th>Team</th>\n",
       "      <th></th>\n",
       "      <th></th>\n",
       "      <th></th>\n",
       "      <th></th>\n",
       "      <th></th>\n",
       "      <th></th>\n",
       "      <th></th>\n",
       "      <th></th>\n",
       "      <th></th>\n",
       "      <th></th>\n",
       "      <th></th>\n",
       "      <th></th>\n",
       "      <th></th>\n",
       "      <th></th>\n",
       "      <th></th>\n",
       "      <th></th>\n",
       "    </tr>\n",
       "  </thead>\n",
       "  <tbody>\n",
       "    <tr>\n",
       "      <th>Pittsburgh Penguins</th>\n",
       "      <td>9.38</td>\n",
       "      <td>92.50</td>\n",
       "      <td>1343</td>\n",
       "      <td>1333</td>\n",
       "      <td>576</td>\n",
       "      <td>587</td>\n",
       "      <td>97.79</td>\n",
       "      <td>2.78</td>\n",
       "      <td>354</td>\n",
       "      <td>307</td>\n",
       "      <td>92.18</td>\n",
       "      <td>8.76</td>\n",
       "      <td>351</td>\n",
       "      <td>378</td>\n",
       "      <td>83.33</td>\n",
       "      <td>21.94</td>\n",
       "    </tr>\n",
       "    <tr>\n",
       "      <th>Philadelphia Flyers</th>\n",
       "      <td>8.26</td>\n",
       "      <td>89.54</td>\n",
       "      <td>1307</td>\n",
       "      <td>1281</td>\n",
       "      <td>600</td>\n",
       "      <td>572</td>\n",
       "      <td>96.33</td>\n",
       "      <td>1.83</td>\n",
       "      <td>323</td>\n",
       "      <td>305</td>\n",
       "      <td>87.54</td>\n",
       "      <td>9.91</td>\n",
       "      <td>322</td>\n",
       "      <td>351</td>\n",
       "      <td>78.92</td>\n",
       "      <td>20.19</td>\n",
       "    </tr>\n",
       "    <tr>\n",
       "      <th>Chicago Blackhawks</th>\n",
       "      <td>7.95</td>\n",
       "      <td>91.67</td>\n",
       "      <td>1258</td>\n",
       "      <td>1501</td>\n",
       "      <td>518</td>\n",
       "      <td>596</td>\n",
       "      <td>97.48</td>\n",
       "      <td>2.12</td>\n",
       "      <td>352</td>\n",
       "      <td>401</td>\n",
       "      <td>92.77</td>\n",
       "      <td>9.38</td>\n",
       "      <td>335</td>\n",
       "      <td>442</td>\n",
       "      <td>81.67</td>\n",
       "      <td>16.72</td>\n",
       "    </tr>\n",
       "    <tr>\n",
       "      <th>Tampa Bay Lightning</th>\n",
       "      <td>8.43</td>\n",
       "      <td>92.11</td>\n",
       "      <td>1317</td>\n",
       "      <td>1230</td>\n",
       "      <td>531</td>\n",
       "      <td>479</td>\n",
       "      <td>97.49</td>\n",
       "      <td>3.01</td>\n",
       "      <td>384</td>\n",
       "      <td>365</td>\n",
       "      <td>90.14</td>\n",
       "      <td>7.03</td>\n",
       "      <td>360</td>\n",
       "      <td>332</td>\n",
       "      <td>85.24</td>\n",
       "      <td>18.89</td>\n",
       "    </tr>\n",
       "    <tr>\n",
       "      <th>Montreal Canadiens</th>\n",
       "      <td>7.50</td>\n",
       "      <td>91.37</td>\n",
       "      <td>1414</td>\n",
       "      <td>1193</td>\n",
       "      <td>644</td>\n",
       "      <td>512</td>\n",
       "      <td>98.44</td>\n",
       "      <td>2.17</td>\n",
       "      <td>377</td>\n",
       "      <td>299</td>\n",
       "      <td>88.29</td>\n",
       "      <td>7.43</td>\n",
       "      <td>338</td>\n",
       "      <td>311</td>\n",
       "      <td>80.71</td>\n",
       "      <td>18.93</td>\n",
       "    </tr>\n",
       "    <tr>\n",
       "      <th>Toronto Maple Leafs</th>\n",
       "      <td>9.68</td>\n",
       "      <td>92.36</td>\n",
       "      <td>1364</td>\n",
       "      <td>1243</td>\n",
       "      <td>474</td>\n",
       "      <td>553</td>\n",
       "      <td>96.75</td>\n",
       "      <td>3.16</td>\n",
       "      <td>434</td>\n",
       "      <td>331</td>\n",
       "      <td>92.75</td>\n",
       "      <td>9.91</td>\n",
       "      <td>421</td>\n",
       "      <td>301</td>\n",
       "      <td>82.39</td>\n",
       "      <td>17.58</td>\n",
       "    </tr>\n",
       "    <tr>\n",
       "      <th>Vancouver Canucks</th>\n",
       "      <td>7.95</td>\n",
       "      <td>91.11</td>\n",
       "      <td>1295</td>\n",
       "      <td>1474</td>\n",
       "      <td>581</td>\n",
       "      <td>574</td>\n",
       "      <td>98.26</td>\n",
       "      <td>2.41</td>\n",
       "      <td>331</td>\n",
       "      <td>453</td>\n",
       "      <td>90.73</td>\n",
       "      <td>11.48</td>\n",
       "      <td>302</td>\n",
       "      <td>394</td>\n",
       "      <td>79.95</td>\n",
       "      <td>16.89</td>\n",
       "    </tr>\n",
       "    <tr>\n",
       "      <th>Edmonton Oilers</th>\n",
       "      <td>8.88</td>\n",
       "      <td>91.56</td>\n",
       "      <td>1295</td>\n",
       "      <td>1374</td>\n",
       "      <td>552</td>\n",
       "      <td>570</td>\n",
       "      <td>97.02</td>\n",
       "      <td>2.17</td>\n",
       "      <td>339</td>\n",
       "      <td>402</td>\n",
       "      <td>90.05</td>\n",
       "      <td>14.16</td>\n",
       "      <td>341</td>\n",
       "      <td>334</td>\n",
       "      <td>82.34</td>\n",
       "      <td>15.54</td>\n",
       "    </tr>\n",
       "    <tr>\n",
       "      <th>St Louis Blues</th>\n",
       "      <td>8.23</td>\n",
       "      <td>91.62</td>\n",
       "      <td>1240</td>\n",
       "      <td>1300</td>\n",
       "      <td>533</td>\n",
       "      <td>557</td>\n",
       "      <td>96.95</td>\n",
       "      <td>2.63</td>\n",
       "      <td>365</td>\n",
       "      <td>358</td>\n",
       "      <td>91.34</td>\n",
       "      <td>8.22</td>\n",
       "      <td>280</td>\n",
       "      <td>331</td>\n",
       "      <td>81.57</td>\n",
       "      <td>20.71</td>\n",
       "    </tr>\n",
       "    <tr>\n",
       "      <th>Colorado Avalanche</th>\n",
       "      <td>8.87</td>\n",
       "      <td>91.67</td>\n",
       "      <td>1477</td>\n",
       "      <td>1056</td>\n",
       "      <td>638</td>\n",
       "      <td>448</td>\n",
       "      <td>97.77</td>\n",
       "      <td>3.13</td>\n",
       "      <td>426</td>\n",
       "      <td>273</td>\n",
       "      <td>86.81</td>\n",
       "      <td>10.56</td>\n",
       "      <td>376</td>\n",
       "      <td>280</td>\n",
       "      <td>85.00</td>\n",
       "      <td>17.55</td>\n",
       "    </tr>\n",
       "    <tr>\n",
       "      <th>Washington Capitals</th>\n",
       "      <td>10.07</td>\n",
       "      <td>91.64</td>\n",
       "      <td>1301</td>\n",
       "      <td>1280</td>\n",
       "      <td>594</td>\n",
       "      <td>579</td>\n",
       "      <td>97.24</td>\n",
       "      <td>4.55</td>\n",
       "      <td>321</td>\n",
       "      <td>327</td>\n",
       "      <td>91.13</td>\n",
       "      <td>11.53</td>\n",
       "      <td>338</td>\n",
       "      <td>295</td>\n",
       "      <td>79.32</td>\n",
       "      <td>19.82</td>\n",
       "    </tr>\n",
       "    <tr>\n",
       "      <th>Buffalo Sabres</th>\n",
       "      <td>6.69</td>\n",
       "      <td>91.06</td>\n",
       "      <td>1300</td>\n",
       "      <td>1532</td>\n",
       "      <td>621</td>\n",
       "      <td>713</td>\n",
       "      <td>96.49</td>\n",
       "      <td>2.90</td>\n",
       "      <td>283</td>\n",
       "      <td>376</td>\n",
       "      <td>88.30</td>\n",
       "      <td>7.77</td>\n",
       "      <td>343</td>\n",
       "      <td>381</td>\n",
       "      <td>82.15</td>\n",
       "      <td>13.70</td>\n",
       "    </tr>\n",
       "    <tr>\n",
       "      <th>Boston Bruins</th>\n",
       "      <td>7.21</td>\n",
       "      <td>92.04</td>\n",
       "      <td>1485</td>\n",
       "      <td>1168</td>\n",
       "      <td>671</td>\n",
       "      <td>498</td>\n",
       "      <td>96.59</td>\n",
       "      <td>2.68</td>\n",
       "      <td>416</td>\n",
       "      <td>303</td>\n",
       "      <td>92.08</td>\n",
       "      <td>8.65</td>\n",
       "      <td>314</td>\n",
       "      <td>297</td>\n",
       "      <td>82.49</td>\n",
       "      <td>16.56</td>\n",
       "    </tr>\n",
       "    <tr>\n",
       "      <th>New Jersey Devils</th>\n",
       "      <td>7.77</td>\n",
       "      <td>91.12</td>\n",
       "      <td>1313</td>\n",
       "      <td>1385</td>\n",
       "      <td>579</td>\n",
       "      <td>611</td>\n",
       "      <td>96.56</td>\n",
       "      <td>2.94</td>\n",
       "      <td>369</td>\n",
       "      <td>378</td>\n",
       "      <td>91.27</td>\n",
       "      <td>8.13</td>\n",
       "      <td>323</td>\n",
       "      <td>359</td>\n",
       "      <td>81.06</td>\n",
       "      <td>17.03</td>\n",
       "    </tr>\n",
       "    <tr>\n",
       "      <th>New York Islanders</th>\n",
       "      <td>8.55</td>\n",
       "      <td>93.11</td>\n",
       "      <td>1322</td>\n",
       "      <td>1307</td>\n",
       "      <td>504</td>\n",
       "      <td>569</td>\n",
       "      <td>97.36</td>\n",
       "      <td>2.98</td>\n",
       "      <td>352</td>\n",
       "      <td>385</td>\n",
       "      <td>93.77</td>\n",
       "      <td>7.39</td>\n",
       "      <td>411</td>\n",
       "      <td>304</td>\n",
       "      <td>83.22</td>\n",
       "      <td>17.52</td>\n",
       "    </tr>\n",
       "    <tr>\n",
       "      <th>New York Rangers</th>\n",
       "      <td>9.32</td>\n",
       "      <td>92.03</td>\n",
       "      <td>1245</td>\n",
       "      <td>1330</td>\n",
       "      <td>558</td>\n",
       "      <td>574</td>\n",
       "      <td>96.86</td>\n",
       "      <td>4.30</td>\n",
       "      <td>307</td>\n",
       "      <td>344</td>\n",
       "      <td>91.28</td>\n",
       "      <td>10.42</td>\n",
       "      <td>315</td>\n",
       "      <td>352</td>\n",
       "      <td>83.52</td>\n",
       "      <td>19.05</td>\n",
       "    </tr>\n",
       "    <tr>\n",
       "      <th>Dallas Stars</th>\n",
       "      <td>7.45</td>\n",
       "      <td>91.99</td>\n",
       "      <td>1355</td>\n",
       "      <td>1161</td>\n",
       "      <td>566</td>\n",
       "      <td>503</td>\n",
       "      <td>95.63</td>\n",
       "      <td>1.06</td>\n",
       "      <td>362</td>\n",
       "      <td>308</td>\n",
       "      <td>93.51</td>\n",
       "      <td>8.01</td>\n",
       "      <td>350</td>\n",
       "      <td>283</td>\n",
       "      <td>81.98</td>\n",
       "      <td>18.86</td>\n",
       "    </tr>\n",
       "    <tr>\n",
       "      <th>Florida Panthers</th>\n",
       "      <td>7.90</td>\n",
       "      <td>92.62</td>\n",
       "      <td>1493</td>\n",
       "      <td>1274</td>\n",
       "      <td>639</td>\n",
       "      <td>562</td>\n",
       "      <td>98.04</td>\n",
       "      <td>3.76</td>\n",
       "      <td>409</td>\n",
       "      <td>334</td>\n",
       "      <td>93.11</td>\n",
       "      <td>7.82</td>\n",
       "      <td>371</td>\n",
       "      <td>315</td>\n",
       "      <td>81.27</td>\n",
       "      <td>16.71</td>\n",
       "    </tr>\n",
       "    <tr>\n",
       "      <th>Carolina Hurricanes</th>\n",
       "      <td>7.38</td>\n",
       "      <td>93.53</td>\n",
       "      <td>1423</td>\n",
       "      <td>1251</td>\n",
       "      <td>610</td>\n",
       "      <td>508</td>\n",
       "      <td>98.23</td>\n",
       "      <td>2.62</td>\n",
       "      <td>353</td>\n",
       "      <td>334</td>\n",
       "      <td>94.01</td>\n",
       "      <td>6.23</td>\n",
       "      <td>403</td>\n",
       "      <td>350</td>\n",
       "      <td>85.14</td>\n",
       "      <td>16.38</td>\n",
       "    </tr>\n",
       "    <tr>\n",
       "      <th>Detroit Red Wings</th>\n",
       "      <td>7.22</td>\n",
       "      <td>92.15</td>\n",
       "      <td>1205</td>\n",
       "      <td>1427</td>\n",
       "      <td>522</td>\n",
       "      <td>652</td>\n",
       "      <td>97.70</td>\n",
       "      <td>2.68</td>\n",
       "      <td>291</td>\n",
       "      <td>375</td>\n",
       "      <td>91.20</td>\n",
       "      <td>7.56</td>\n",
       "      <td>310</td>\n",
       "      <td>343</td>\n",
       "      <td>81.34</td>\n",
       "      <td>16.45</td>\n",
       "    </tr>\n",
       "    <tr>\n",
       "      <th>Columbus Blue Jackets</th>\n",
       "      <td>7.19</td>\n",
       "      <td>91.28</td>\n",
       "      <td>1350</td>\n",
       "      <td>1503</td>\n",
       "      <td>642</td>\n",
       "      <td>679</td>\n",
       "      <td>96.61</td>\n",
       "      <td>3.12</td>\n",
       "      <td>357</td>\n",
       "      <td>386</td>\n",
       "      <td>90.67</td>\n",
       "      <td>6.72</td>\n",
       "      <td>293</td>\n",
       "      <td>368</td>\n",
       "      <td>80.43</td>\n",
       "      <td>18.09</td>\n",
       "    </tr>\n",
       "    <tr>\n",
       "      <th>Nashville Predators</th>\n",
       "      <td>7.73</td>\n",
       "      <td>93.57</td>\n",
       "      <td>1346</td>\n",
       "      <td>1400</td>\n",
       "      <td>593</td>\n",
       "      <td>642</td>\n",
       "      <td>97.35</td>\n",
       "      <td>2.87</td>\n",
       "      <td>351</td>\n",
       "      <td>356</td>\n",
       "      <td>93.82</td>\n",
       "      <td>8.55</td>\n",
       "      <td>353</td>\n",
       "      <td>342</td>\n",
       "      <td>85.09</td>\n",
       "      <td>16.15</td>\n",
       "    </tr>\n",
       "    <tr>\n",
       "      <th>Calgary Flames</th>\n",
       "      <td>8.54</td>\n",
       "      <td>91.52</td>\n",
       "      <td>1311</td>\n",
       "      <td>1227</td>\n",
       "      <td>544</td>\n",
       "      <td>534</td>\n",
       "      <td>98.13</td>\n",
       "      <td>2.76</td>\n",
       "      <td>377</td>\n",
       "      <td>335</td>\n",
       "      <td>89.85</td>\n",
       "      <td>10.88</td>\n",
       "      <td>336</td>\n",
       "      <td>297</td>\n",
       "      <td>80.13</td>\n",
       "      <td>16.37</td>\n",
       "    </tr>\n",
       "    <tr>\n",
       "      <th>Winnipeg Jets</th>\n",
       "      <td>8.56</td>\n",
       "      <td>92.42</td>\n",
       "      <td>1274</td>\n",
       "      <td>1332</td>\n",
       "      <td>549</td>\n",
       "      <td>538</td>\n",
       "      <td>98.51</td>\n",
       "      <td>1.09</td>\n",
       "      <td>353</td>\n",
       "      <td>365</td>\n",
       "      <td>90.96</td>\n",
       "      <td>9.92</td>\n",
       "      <td>311</td>\n",
       "      <td>372</td>\n",
       "      <td>84.14</td>\n",
       "      <td>21.86</td>\n",
       "    </tr>\n",
       "    <tr>\n",
       "      <th>San Jose Sharks</th>\n",
       "      <td>8.05</td>\n",
       "      <td>90.37</td>\n",
       "      <td>1305</td>\n",
       "      <td>1391</td>\n",
       "      <td>489</td>\n",
       "      <td>595</td>\n",
       "      <td>96.13</td>\n",
       "      <td>3.07</td>\n",
       "      <td>368</td>\n",
       "      <td>371</td>\n",
       "      <td>90.03</td>\n",
       "      <td>7.61</td>\n",
       "      <td>403</td>\n",
       "      <td>367</td>\n",
       "      <td>79.84</td>\n",
       "      <td>15.38</td>\n",
       "    </tr>\n",
       "    <tr>\n",
       "      <th>Arizona Coyotes</th>\n",
       "      <td>8.12</td>\n",
       "      <td>91.22</td>\n",
       "      <td>1207</td>\n",
       "      <td>1310</td>\n",
       "      <td>524</td>\n",
       "      <td>520</td>\n",
       "      <td>97.69</td>\n",
       "      <td>2.10</td>\n",
       "      <td>309</td>\n",
       "      <td>378</td>\n",
       "      <td>89.68</td>\n",
       "      <td>12.62</td>\n",
       "      <td>321</td>\n",
       "      <td>357</td>\n",
       "      <td>82.07</td>\n",
       "      <td>14.95</td>\n",
       "    </tr>\n",
       "    <tr>\n",
       "      <th>Anaheim Ducks</th>\n",
       "      <td>8.26</td>\n",
       "      <td>91.06</td>\n",
       "      <td>1211</td>\n",
       "      <td>1364</td>\n",
       "      <td>476</td>\n",
       "      <td>545</td>\n",
       "      <td>98.17</td>\n",
       "      <td>2.73</td>\n",
       "      <td>334</td>\n",
       "      <td>391</td>\n",
       "      <td>91.82</td>\n",
       "      <td>8.98</td>\n",
       "      <td>321</td>\n",
       "      <td>389</td>\n",
       "      <td>79.43</td>\n",
       "      <td>17.76</td>\n",
       "    </tr>\n",
       "    <tr>\n",
       "      <th>Vegas Golden Knights</th>\n",
       "      <td>9.58</td>\n",
       "      <td>92.15</td>\n",
       "      <td>1409</td>\n",
       "      <td>1235</td>\n",
       "      <td>553</td>\n",
       "      <td>490</td>\n",
       "      <td>97.55</td>\n",
       "      <td>3.62</td>\n",
       "      <td>411</td>\n",
       "      <td>319</td>\n",
       "      <td>91.22</td>\n",
       "      <td>10.95</td>\n",
       "      <td>386</td>\n",
       "      <td>353</td>\n",
       "      <td>83.85</td>\n",
       "      <td>17.88</td>\n",
       "    </tr>\n",
       "    <tr>\n",
       "      <th>Minnesota Wild</th>\n",
       "      <td>10.38</td>\n",
       "      <td>91.88</td>\n",
       "      <td>1214</td>\n",
       "      <td>1330</td>\n",
       "      <td>519</td>\n",
       "      <td>628</td>\n",
       "      <td>97.29</td>\n",
       "      <td>2.89</td>\n",
       "      <td>308</td>\n",
       "      <td>370</td>\n",
       "      <td>90.00</td>\n",
       "      <td>12.99</td>\n",
       "      <td>342</td>\n",
       "      <td>285</td>\n",
       "      <td>81.05</td>\n",
       "      <td>20.47</td>\n",
       "    </tr>\n",
       "    <tr>\n",
       "      <th>Los Angeles Kings</th>\n",
       "      <td>7.61</td>\n",
       "      <td>91.02</td>\n",
       "      <td>1248</td>\n",
       "      <td>1325</td>\n",
       "      <td>553</td>\n",
       "      <td>502</td>\n",
       "      <td>97.41</td>\n",
       "      <td>1.08</td>\n",
       "      <td>317</td>\n",
       "      <td>378</td>\n",
       "      <td>90.21</td>\n",
       "      <td>6.31</td>\n",
       "      <td>316</td>\n",
       "      <td>383</td>\n",
       "      <td>82.51</td>\n",
       "      <td>21.84</td>\n",
       "    </tr>\n",
       "    <tr>\n",
       "      <th>Ottawa Senators</th>\n",
       "      <td>8.01</td>\n",
       "      <td>90.71</td>\n",
       "      <td>1311</td>\n",
       "      <td>1421</td>\n",
       "      <td>579</td>\n",
       "      <td>642</td>\n",
       "      <td>97.04</td>\n",
       "      <td>2.42</td>\n",
       "      <td>343</td>\n",
       "      <td>369</td>\n",
       "      <td>85.91</td>\n",
       "      <td>7.87</td>\n",
       "      <td>313</td>\n",
       "      <td>353</td>\n",
       "      <td>83.29</td>\n",
       "      <td>20.13</td>\n",
       "    </tr>\n",
       "  </tbody>\n",
       "</table>\n",
       "</div>"
      ],
      "text/plain": [
       "                         SH%    SV%    SF    SA  LDSF  LDSA  LDSV%  LDSH%  \\\n",
       "Team                                                                        \n",
       "Pittsburgh Penguins     9.38  92.50  1343  1333   576   587  97.79   2.78   \n",
       "Philadelphia Flyers     8.26  89.54  1307  1281   600   572  96.33   1.83   \n",
       "Chicago Blackhawks      7.95  91.67  1258  1501   518   596  97.48   2.12   \n",
       "Tampa Bay Lightning     8.43  92.11  1317  1230   531   479  97.49   3.01   \n",
       "Montreal Canadiens      7.50  91.37  1414  1193   644   512  98.44   2.17   \n",
       "Toronto Maple Leafs     9.68  92.36  1364  1243   474   553  96.75   3.16   \n",
       "Vancouver Canucks       7.95  91.11  1295  1474   581   574  98.26   2.41   \n",
       "Edmonton Oilers         8.88  91.56  1295  1374   552   570  97.02   2.17   \n",
       "St Louis Blues          8.23  91.62  1240  1300   533   557  96.95   2.63   \n",
       "Colorado Avalanche      8.87  91.67  1477  1056   638   448  97.77   3.13   \n",
       "Washington Capitals    10.07  91.64  1301  1280   594   579  97.24   4.55   \n",
       "Buffalo Sabres          6.69  91.06  1300  1532   621   713  96.49   2.90   \n",
       "Boston Bruins           7.21  92.04  1485  1168   671   498  96.59   2.68   \n",
       "New Jersey Devils       7.77  91.12  1313  1385   579   611  96.56   2.94   \n",
       "New York Islanders      8.55  93.11  1322  1307   504   569  97.36   2.98   \n",
       "New York Rangers        9.32  92.03  1245  1330   558   574  96.86   4.30   \n",
       "Dallas Stars            7.45  91.99  1355  1161   566   503  95.63   1.06   \n",
       "Florida Panthers        7.90  92.62  1493  1274   639   562  98.04   3.76   \n",
       "Carolina Hurricanes     7.38  93.53  1423  1251   610   508  98.23   2.62   \n",
       "Detroit Red Wings       7.22  92.15  1205  1427   522   652  97.70   2.68   \n",
       "Columbus Blue Jackets   7.19  91.28  1350  1503   642   679  96.61   3.12   \n",
       "Nashville Predators     7.73  93.57  1346  1400   593   642  97.35   2.87   \n",
       "Calgary Flames          8.54  91.52  1311  1227   544   534  98.13   2.76   \n",
       "Winnipeg Jets           8.56  92.42  1274  1332   549   538  98.51   1.09   \n",
       "San Jose Sharks         8.05  90.37  1305  1391   489   595  96.13   3.07   \n",
       "Arizona Coyotes         8.12  91.22  1207  1310   524   520  97.69   2.10   \n",
       "Anaheim Ducks           8.26  91.06  1211  1364   476   545  98.17   2.73   \n",
       "Vegas Golden Knights    9.58  92.15  1409  1235   553   490  97.55   3.62   \n",
       "Minnesota Wild         10.38  91.88  1214  1330   519   628  97.29   2.89   \n",
       "Los Angeles Kings       7.61  91.02  1248  1325   553   502  97.41   1.08   \n",
       "Ottawa Senators         8.01  90.71  1311  1421   579   642  97.04   2.42   \n",
       "\n",
       "                       MDSF  MDSA  MDSV%  MDSH%  HDSF  HDSA  HDSV%  HDSH%  \n",
       "Team                                                                       \n",
       "Pittsburgh Penguins     354   307  92.18   8.76   351   378  83.33  21.94  \n",
       "Philadelphia Flyers     323   305  87.54   9.91   322   351  78.92  20.19  \n",
       "Chicago Blackhawks      352   401  92.77   9.38   335   442  81.67  16.72  \n",
       "Tampa Bay Lightning     384   365  90.14   7.03   360   332  85.24  18.89  \n",
       "Montreal Canadiens      377   299  88.29   7.43   338   311  80.71  18.93  \n",
       "Toronto Maple Leafs     434   331  92.75   9.91   421   301  82.39  17.58  \n",
       "Vancouver Canucks       331   453  90.73  11.48   302   394  79.95  16.89  \n",
       "Edmonton Oilers         339   402  90.05  14.16   341   334  82.34  15.54  \n",
       "St Louis Blues          365   358  91.34   8.22   280   331  81.57  20.71  \n",
       "Colorado Avalanche      426   273  86.81  10.56   376   280  85.00  17.55  \n",
       "Washington Capitals     321   327  91.13  11.53   338   295  79.32  19.82  \n",
       "Buffalo Sabres          283   376  88.30   7.77   343   381  82.15  13.70  \n",
       "Boston Bruins           416   303  92.08   8.65   314   297  82.49  16.56  \n",
       "New Jersey Devils       369   378  91.27   8.13   323   359  81.06  17.03  \n",
       "New York Islanders      352   385  93.77   7.39   411   304  83.22  17.52  \n",
       "New York Rangers        307   344  91.28  10.42   315   352  83.52  19.05  \n",
       "Dallas Stars            362   308  93.51   8.01   350   283  81.98  18.86  \n",
       "Florida Panthers        409   334  93.11   7.82   371   315  81.27  16.71  \n",
       "Carolina Hurricanes     353   334  94.01   6.23   403   350  85.14  16.38  \n",
       "Detroit Red Wings       291   375  91.20   7.56   310   343  81.34  16.45  \n",
       "Columbus Blue Jackets   357   386  90.67   6.72   293   368  80.43  18.09  \n",
       "Nashville Predators     351   356  93.82   8.55   353   342  85.09  16.15  \n",
       "Calgary Flames          377   335  89.85  10.88   336   297  80.13  16.37  \n",
       "Winnipeg Jets           353   365  90.96   9.92   311   372  84.14  21.86  \n",
       "San Jose Sharks         368   371  90.03   7.61   403   367  79.84  15.38  \n",
       "Arizona Coyotes         309   378  89.68  12.62   321   357  82.07  14.95  \n",
       "Anaheim Ducks           334   391  91.82   8.98   321   389  79.43  17.76  \n",
       "Vegas Golden Knights    411   319  91.22  10.95   386   353  83.85  17.88  \n",
       "Minnesota Wild          308   370  90.00  12.99   342   285  81.05  20.47  \n",
       "Los Angeles Kings       317   378  90.21   6.31   316   383  82.51  21.84  \n",
       "Ottawa Senators         343   369  85.91   7.87   313   353  83.29  20.13  "
      ]
     },
     "execution_count": 38,
     "metadata": {},
     "output_type": "execute_result"
    }
   ],
   "source": [
    "# Taking a look at the new dataframe. I didn't need to use .head() because the dataframe is now quite small. \n",
    "Monte_carlo_df"
   ]
  },
  {
   "cell_type": "code",
   "execution_count": 39,
   "id": "575d4f5f",
   "metadata": {},
   "outputs": [
    {
     "data": {
      "text/plain": [
       "(31, 16)"
      ]
     },
     "execution_count": 39,
     "metadata": {},
     "output_type": "execute_result"
    }
   ],
   "source": [
    "# Looking at the shape\n",
    "Monte_carlo_df.shape"
   ]
  },
  {
   "cell_type": "markdown",
   "id": "12488a56",
   "metadata": {},
   "source": [
    "The dataframe is now only 31 rows and 17 columns which is much easier to work with. "
   ]
  },
  {
   "cell_type": "code",
   "execution_count": 40,
   "id": "f90396b1",
   "metadata": {},
   "outputs": [
    {
     "name": "stdout",
     "output_type": "stream",
     "text": [
      "<class 'pandas.core.frame.DataFrame'>\n",
      "Index: 31 entries, Pittsburgh Penguins to Ottawa Senators\n",
      "Data columns (total 16 columns):\n",
      " #   Column  Non-Null Count  Dtype  \n",
      "---  ------  --------------  -----  \n",
      " 0   SH%     31 non-null     float64\n",
      " 1   SV%     31 non-null     float64\n",
      " 2   SF      31 non-null     int64  \n",
      " 3   SA      31 non-null     int64  \n",
      " 4   LDSF    31 non-null     int64  \n",
      " 5   LDSA    31 non-null     int64  \n",
      " 6   LDSV%   31 non-null     float64\n",
      " 7   LDSH%   31 non-null     float64\n",
      " 8   MDSF    31 non-null     int64  \n",
      " 9   MDSA    31 non-null     int64  \n",
      " 10  MDSV%   31 non-null     float64\n",
      " 11  MDSH%   31 non-null     float64\n",
      " 12  HDSF    31 non-null     int64  \n",
      " 13  HDSA    31 non-null     int64  \n",
      " 14  HDSV%   31 non-null     float64\n",
      " 15  HDSH%   31 non-null     float64\n",
      "dtypes: float64(8), int64(8)\n",
      "memory usage: 4.1+ KB\n"
     ]
    }
   ],
   "source": [
    "# Checking the info from the new dataframe\n",
    "Monte_carlo_df.info()"
   ]
  },
  {
   "cell_type": "markdown",
   "id": "11f3dc2f",
   "metadata": {},
   "source": [
    "#### Again, just checking to make sure there aren't any mistakes or surprises in my new dataframe."
   ]
  },
  {
   "cell_type": "markdown",
   "id": "9a437fcd",
   "metadata": {},
   "source": [
    "#### I will now do my calculations before I enter them into the function, starting with the league averages. "
   ]
  },
  {
   "cell_type": "code",
   "execution_count": 41,
   "id": "9f7acee8",
   "metadata": {
    "scrolled": true
   },
   "outputs": [
    {
     "data": {
      "text/plain": [
       "82.07870967741937"
      ]
     },
     "execution_count": 41,
     "metadata": {},
     "output_type": "execute_result"
    }
   ],
   "source": [
    "# Calculating league average High Danger Save Percentage\n",
    "league_avg_hdsv_pct = Monte_carlo_df['HDSV%'].mean()\n",
    "league_avg_hdsv_pct"
   ]
  },
  {
   "cell_type": "code",
   "execution_count": 42,
   "id": "14b143de",
   "metadata": {},
   "outputs": [
    {
     "data": {
      "text/plain": [
       "90.85"
      ]
     },
     "execution_count": 42,
     "metadata": {},
     "output_type": "execute_result"
    }
   ],
   "source": [
    "# Calculating league average Medium Danger Save Percentage\n",
    "league_avg_mdsv_pct = (round((Monte_carlo_df['MDSV%'].mean()),2))\n",
    "league_avg_mdsv_pct"
   ]
  },
  {
   "cell_type": "code",
   "execution_count": 43,
   "id": "b39df196",
   "metadata": {},
   "outputs": [
    {
     "data": {
      "text/plain": [
       "97.31806451612904"
      ]
     },
     "execution_count": 43,
     "metadata": {},
     "output_type": "execute_result"
    }
   ],
   "source": [
    "# Calculating league average Low Danger Save Percentage\n",
    "league_avg_ldsv_pct = Monte_carlo_df['LDSV%'].mean()\n",
    "league_avg_ldsv_pct"
   ]
  },
  {
   "cell_type": "code",
   "execution_count": 44,
   "id": "0693636e",
   "metadata": {},
   "outputs": [
    {
     "data": {
      "text/plain": [
       "6.1054147465437785"
      ]
     },
     "execution_count": 44,
     "metadata": {},
     "output_type": "execute_result"
    }
   ],
   "source": [
    "# Calculating league average High Danger Shots per game\n",
    "league_hdshots_per_game = (Monte_carlo_df['HDSF'].sum()/(team_df_21['GP'].sum()))\n",
    "\n",
    "league_hdshots_per_game"
   ]
  },
  {
   "cell_type": "code",
   "execution_count": 45,
   "id": "252bcf6f",
   "metadata": {},
   "outputs": [
    {
     "data": {
      "text/plain": [
       "6.32258064516129"
      ]
     },
     "execution_count": 45,
     "metadata": {},
     "output_type": "execute_result"
    }
   ],
   "source": [
    "# Calculating league average Medium Danger Shots per game\n",
    "league_mdshots_per_game = (Monte_carlo_df['MDSF'].sum()/(team_df_21['GP'].sum()))\n",
    "\n",
    "league_mdshots_per_game"
   ]
  },
  {
   "cell_type": "code",
   "execution_count": 46,
   "id": "ff5f0978",
   "metadata": {},
   "outputs": [
    {
     "data": {
      "text/plain": [
       "10.099078341013826"
      ]
     },
     "execution_count": 46,
     "metadata": {},
     "output_type": "execute_result"
    }
   ],
   "source": [
    "# Calculating league average Low Danger Shots per game\n",
    "league_ldshots_per_game = (Monte_carlo_df['LDSF'].sum()/(team_df_21['GP'].sum()))\n",
    "\n",
    "league_ldshots_per_game"
   ]
  },
  {
   "cell_type": "code",
   "execution_count": 47,
   "id": "bb1eabf9",
   "metadata": {},
   "outputs": [
    {
     "data": {
      "text/plain": [
       "9.15"
      ]
     },
     "execution_count": 47,
     "metadata": {},
     "output_type": "execute_result"
    }
   ],
   "source": [
    "# Calculating league average Medium Danger Shooting Percentage\n",
    "league_avg_md_shoot_pct = (round((Monte_carlo_df['MDSH%']).mean(),2))\n",
    "league_avg_md_shoot_pct"
   ]
  },
  {
   "cell_type": "code",
   "execution_count": 48,
   "id": "a1b30912",
   "metadata": {},
   "outputs": [
    {
     "data": {
      "text/plain": [
       "18.0"
      ]
     },
     "execution_count": 48,
     "metadata": {},
     "output_type": "execute_result"
    }
   ],
   "source": [
    "# Calculating league average High Danger Shooting Percentage\n",
    "league_avg_hd_shoot_pct = (round((Monte_carlo_df['HDSH%']).mean(),2))\n",
    "league_avg_hd_shoot_pct"
   ]
  },
  {
   "cell_type": "code",
   "execution_count": 49,
   "id": "62630590",
   "metadata": {},
   "outputs": [
    {
     "data": {
      "text/plain": [
       "2.7"
      ]
     },
     "execution_count": 49,
     "metadata": {},
     "output_type": "execute_result"
    }
   ],
   "source": [
    "# Calculating league average Low Danger Shooting Percentage\n",
    "league_avg_ld_shoot_pct = (round((Monte_carlo_df['LDSH%']).mean(),2))\n",
    "league_avg_ld_shoot_pct"
   ]
  },
  {
   "cell_type": "markdown",
   "id": "95ce8ef0",
   "metadata": {},
   "source": [
    "Now I just want to do a little verification that changing the index to the team names will allow me to easily select the statistics from each team inside the new function. "
   ]
  },
  {
   "cell_type": "code",
   "execution_count": 50,
   "id": "21ee50f4",
   "metadata": {
    "scrolled": false
   },
   "outputs": [
    {
     "data": {
      "text/plain": [
       "SH%         8.05\n",
       "SV%        90.37\n",
       "SF       1305.00\n",
       "SA       1391.00\n",
       "LDSF      489.00\n",
       "LDSA      595.00\n",
       "LDSV%      96.13\n",
       "LDSH%       3.07\n",
       "MDSF      368.00\n",
       "MDSA      371.00\n",
       "MDSV%      90.03\n",
       "MDSH%       7.61\n",
       "HDSF      403.00\n",
       "HDSA      367.00\n",
       "HDSV%      79.84\n",
       "HDSH%      15.38\n",
       "Name: San Jose Sharks, dtype: float64"
      ]
     },
     "execution_count": 50,
     "metadata": {},
     "output_type": "execute_result"
    }
   ],
   "source": [
    "# Using .loc to select all the stats from the Sharks\n",
    "Monte_carlo_df.loc['San Jose Sharks']"
   ]
  },
  {
   "cell_type": "code",
   "execution_count": 51,
   "id": "b10cea58",
   "metadata": {},
   "outputs": [
    {
     "data": {
      "text/plain": [
       "SH%         9.58\n",
       "SV%        92.15\n",
       "SF       1409.00\n",
       "SA       1235.00\n",
       "LDSF      553.00\n",
       "LDSA      490.00\n",
       "LDSV%      97.55\n",
       "LDSH%       3.62\n",
       "MDSF      411.00\n",
       "MDSA      319.00\n",
       "MDSV%      91.22\n",
       "MDSH%      10.95\n",
       "HDSF      386.00\n",
       "HDSA      353.00\n",
       "HDSV%      83.85\n",
       "HDSH%      17.88\n",
       "Name: Vegas Golden Knights, dtype: float64"
      ]
     },
     "execution_count": 51,
     "metadata": {},
     "output_type": "execute_result"
    }
   ],
   "source": [
    "# Again using .loc for the stats from Vegas. \n",
    "Monte_carlo_df.loc['Vegas Golden Knights']"
   ]
  },
  {
   "cell_type": "code",
   "execution_count": 52,
   "id": "bdb0fd32",
   "metadata": {},
   "outputs": [
    {
     "data": {
      "text/plain": [
       "9.875"
      ]
     },
     "execution_count": 52,
     "metadata": {},
     "output_type": "execute_result"
    }
   ],
   "source": [
    "# Now parsing the stats and dividing by the number of games played to see how many Low Danger Shots For Vegas averaged\n",
    "# last year\n",
    "Monte_carlo_df.loc['Vegas Golden Knights']['LDSF']/56"
   ]
  },
  {
   "cell_type": "code",
   "execution_count": 53,
   "id": "5622fb10",
   "metadata": {
    "scrolled": true
   },
   "outputs": [
    {
     "data": {
      "text/plain": [
       "-0.8199999999999932"
      ]
     },
     "execution_count": 53,
     "metadata": {},
     "output_type": "execute_result"
    }
   ],
   "source": [
    "# Calculating how much worse the Sharks Medium Save Percentage was than the league average\n",
    "Monte_carlo_df.loc['San Jose Sharks']['MDSV%'] - league_avg_mdsv_pct"
   ]
  },
  {
   "cell_type": "code",
   "execution_count": 54,
   "id": "79ca88fa",
   "metadata": {},
   "outputs": [
    {
     "data": {
      "text/plain": [
       "10.95"
      ]
     },
     "execution_count": 54,
     "metadata": {},
     "output_type": "execute_result"
    }
   ],
   "source": [
    "# Calling Vegas' Medium Danger Shooting Percentage\n",
    "Monte_carlo_df.loc['Vegas Golden Knights']['MDSH%']"
   ]
  },
  {
   "cell_type": "code",
   "execution_count": 55,
   "id": "5160bbcb",
   "metadata": {},
   "outputs": [
    {
     "data": {
      "text/plain": [
       "89.05"
      ]
     },
     "execution_count": 55,
     "metadata": {},
     "output_type": "execute_result"
    }
   ],
   "source": [
    "# By subtracting the Mediumn Danger Shooting Percentage from 100 \n",
    "# I am able to calculate the Medium Danger Save Percentage against Vegas\n",
    "100 - Monte_carlo_df.loc['Vegas Golden Knights']['MDSH%']"
   ]
  },
  {
   "cell_type": "code",
   "execution_count": 56,
   "id": "5f331d36",
   "metadata": {},
   "outputs": [
    {
     "data": {
      "text/plain": [
       "1.799999999999999"
      ]
     },
     "execution_count": 56,
     "metadata": {},
     "output_type": "execute_result"
    }
   ],
   "source": [
    "# Calculating how much better Vegas' Medium Danger Shooting Percentage as than league average. \n",
    "Monte_carlo_df.loc['Vegas Golden Knights']['MDSH%'] - league_avg_md_shoot_pct"
   ]
  },
  {
   "cell_type": "code",
   "execution_count": 57,
   "id": "32caf567",
   "metadata": {},
   "outputs": [
    {
     "data": {
      "text/plain": [
       "-1.7999999999999972"
      ]
     },
     "execution_count": 57,
     "metadata": {},
     "output_type": "execute_result"
    }
   ],
   "source": [
    "# Calculating how much better Vegas shoots than league average on Mediumn Danger shots. \n",
    "(100-Monte_carlo_df.loc['Vegas Golden Knights']['MDSH%']) - (100-league_avg_md_shoot_pct)"
   ]
  },
  {
   "cell_type": "markdown",
   "id": "f2ac7694",
   "metadata": {},
   "source": [
    "# Building a More Robust Monte Carlo Simulation:\n",
    "\n",
    "Now that I have my new dataframe I can being to calculate the expectations within the new function. "
   ]
  },
  {
   "cell_type": "code",
   "execution_count": 58,
   "id": "05c070b7",
   "metadata": {},
   "outputs": [],
   "source": [
    "# Creating the function, the only require information will be the team names.\n",
    "def monte_carlo_matchup(team1, team2):\n",
    "    # Entering an assert statement to make sure the team name entered is a valid NHL team. \n",
    "    assert team1 in Monte_carlo_df.index, 'Team1 is not a valid NHL team name. Please enter a valid NHL team'\n",
    "    assert team2 in Monte_carlo_df.index, 'Team2 is not a valid NHL team name. Please enter a valid NHL team'\n",
    "        \n",
    "    # Setting up the connection between the entered team name and the data in the dataframe\n",
    "    team1 = Monte_carlo_df.loc[team1]\n",
    "    team2 = Monte_carlo_df.loc[team2]\n",
    "    # Setting up a connection to be used in the calculations so the data can be extracted from the team name\n",
    "    # with a .loc\n",
    "    team1_name = team1.name\n",
    "    team2_name = team2.name\n",
    "\n",
    "    # Calculating the league average statistics\n",
    "    league_avg_hdsv_pct = (round((Monte_carlo_df['HDSV%'].mean()),2))\n",
    "\n",
    "    league_avg_mdsv_pct = (round((Monte_carlo_df['MDSV%'].mean()),2))\n",
    "\n",
    "    league_avg_ldsv_pct = (round((Monte_carlo_df['LDSV%'].mean()),2))\n",
    "    # Here I used the the sum of GP from my original dataframe\n",
    "    league_hdshots_per_game = (Monte_carlo_df['HDSF'].sum()/(team_df_21['GP'].sum()))\n",
    "\n",
    "    league_mdshots_per_game = (Monte_carlo_df['MDSF'].sum()/(team_df_21['GP'].sum()))\n",
    "\n",
    "    league_ldshots_per_game = (Monte_carlo_df['LDSF'].sum()/(team_df_21['GP'].sum()))\n",
    "\n",
    "    league_avg_md_shoot_pct = (round((Monte_carlo_df['MDSH%']).mean(),2))\n",
    "\n",
    "    league_avg_hd_shoot_pct = (round((Monte_carlo_df['HDSH%']).mean(),2))\n",
    "\n",
    "    league_avg_ld_shoot_pct = (round((Monte_carlo_df['LDSH%']).mean(),2))\n",
    "    \n",
    "    \n",
    "    \n",
    "    \n",
    "    # Calculating the expected stats for each team based on their opponenet and vice versa\n",
    "    team1_expected_ldsv_pct = (((Monte_carlo_df.loc[team1_name]['LDSV%'] - league_avg_ldsv_pct) + \n",
    "                              ((100-Monte_carlo_df.loc[team2_name]['LDSH%']) - (100-league_avg_ld_shoot_pct))\n",
    "                               + league_avg_ldsv_pct)/100)\n",
    "\n",
    "\n",
    "    team2_expected_ldsv_pct = (((Monte_carlo_df.loc[team2_name]['LDSV%'] - league_avg_ldsv_pct) +\n",
    "                              ((100-Monte_carlo_df.loc[team1_name]['LDSH%']) - (100-league_avg_ld_shoot_pct)) +\n",
    "                               league_avg_ldsv_pct)/100)\n",
    "    \n",
    "    \n",
    "    team1_expected_mdsv_pct = (((Monte_carlo_df.loc[team1_name]['MDSV%'] - league_avg_mdsv_pct) + \n",
    "                              ((100-Monte_carlo_df.loc[team2_name]['MDSH%']) - (100-league_avg_md_shoot_pct)) \n",
    "                               + league_avg_mdsv_pct)/100)\n",
    "\n",
    "\n",
    "    team2_expected_mdsv_pct = (((Monte_carlo_df.loc[team2_name]['MDSV%'] - league_avg_mdsv_pct) + \n",
    "                              ((100-Monte_carlo_df.loc[team1_name]['MDSH%']) - (100-league_avg_md_shoot_pct)) +\n",
    "                                league_avg_mdsv_pct)/100)\n",
    "                                \n",
    "        \n",
    "    team1_expected_hdsv_pct = (((Monte_carlo_df.loc[team1_name]['HDSV%'] - league_avg_hdsv_pct) + \n",
    "                              ((100-Monte_carlo_df.loc[team2_name]['HDSH%']) - (100-league_avg_hd_shoot_pct)) \n",
    "                               + league_avg_hdsv_pct)/100)\n",
    "\n",
    "\n",
    "    team2_expected_hdsv_pct = (((Monte_carlo_df.loc[team2_name]['HDSV%'] - league_avg_hdsv_pct) + \n",
    "                              ((100-Monte_carlo_df.loc[team1_name]['HDSH%']) - (100-league_avg_hd_shoot_pct)) +\n",
    "                                league_avg_hdsv_pct)/100)\n",
    "                                   \n",
    "        \n",
    "    team1_expected_ldshots_game = (round((((((Monte_carlo_df.loc[team1_name]['LDSF']/56) - league_ldshots_per_game) +\n",
    "                                  ((Monte_carlo_df.loc[team2_name]['LDSA']/56) - league_ldshots_per_game)) +\n",
    "                                    league_ldshots_per_game)),0)).astype(int)                                               \n",
    "    \n",
    "    \n",
    "    team1_expected_mdshots_game = (round((((((Monte_carlo_df.loc[team1_name]['MDSF']/56) - league_mdshots_per_game) +\n",
    "                                  ((Monte_carlo_df.loc[team2_name]['MDSA']/56) - league_mdshots_per_game)) +\n",
    "                                    league_mdshots_per_game)),0)).astype(int)              \n",
    "    \n",
    "    \n",
    "    team1_expected_hdshots_game = (round((((((Monte_carlo_df.loc[team1_name]['HDSF']/56) - league_hdshots_per_game) +\n",
    "                                  ((Monte_carlo_df.loc[team2_name]['HDSA']/56) - league_hdshots_per_game)) +\n",
    "                                    league_hdshots_per_game)),0)).astype(int)   \n",
    "    \n",
    "    \n",
    "    team2_expected_ldshots_game = (round((((((Monte_carlo_df.loc[team2_name]['LDSF']/56) - league_ldshots_per_game) +\n",
    "                                  ((Monte_carlo_df.loc[team1_name]['LDSA']/56) - league_ldshots_per_game)) +\n",
    "                                    league_ldshots_per_game)),0)).astype(int)                                               \n",
    "    \n",
    "    \n",
    "    team2_expected_mdshots_game = (round((((((Monte_carlo_df.loc[team2_name]['MDSF']/56) - league_mdshots_per_game) +\n",
    "                                  ((Monte_carlo_df.loc[team1_name]['MDSA']/56) - league_mdshots_per_game)) +\n",
    "                                    league_mdshots_per_game)),0)).astype(int)              \n",
    "    \n",
    "    \n",
    "    team2_expected_hdshots_game = (round((((((Monte_carlo_df.loc[team2_name]['HDSF']/56) - league_hdshots_per_game) +\n",
    "                                  ((Monte_carlo_df.loc[team1_name]['HDSA']/56) - league_hdshots_per_game)) +\n",
    "                                    league_hdshots_per_game)),0)).astype(int)   \n",
    "    \n",
    "    # Creating tallies for all of the stats I want to track\n",
    "    total_goals_team1 = 0\n",
    "    total_goals_team2 = 0\n",
    "    goals_scored_onld_team1 = 0\n",
    "    goals_scored_onld_team2 = 0\n",
    "    goals_scored_onmd_team1 = 0\n",
    "    goals_scored_onmd_team2 = 0\n",
    "    goals_scored_onhd_team1 = 0\n",
    "    goals_scored_onhd_team2 = 0\n",
    "    team1_victories = 0\n",
    "    team2_victories = 0\n",
    "    overtime = 0 \n",
    "    # Creating a for loop that runs 100,000 simulations of the game    \n",
    "    for i in range(0, 100000):\n",
    "        # Goals scored for each team\n",
    "        goals_scored_team1 = 0\n",
    "        goals_scored_team2 = 0\n",
    "        # A for loop for team1 shot attempts and outcomes\n",
    "        for k in range(0, team1_expected_ldshots_game + 1):\n",
    "            # using np.random.random to generate random floats between 1 and 0\n",
    "            # if the number hits above the save percentage threshold then a goal is scored\n",
    "            # otherwise the shot is saved by the goalie.\n",
    "            \n",
    "            r = np.random.random()\n",
    "            if(r>=team2_expected_ldsv_pct):\n",
    "                # Adding a goal if the shot falls below the set shooting percentage\n",
    "                goals_scored_team1 += 1\n",
    "                goals_scored_onld_team1 += 1\n",
    "                total_goals_team1 += 1\n",
    "                # Shot is saved, no goal is added\n",
    "            else:\n",
    "                goals_scored_team1 += 0\n",
    "\n",
    "                \n",
    "        for k in range(0, team1_expected_mdshots_game + 1):\n",
    "            # using np.random.random to generate random floats between 1 and 0\n",
    "            # if the number hits above the save percentage threshold then a goal is scored\n",
    "            # otherwise the shot is saved by the goalie.\n",
    "            \n",
    "            r = np.random.random()\n",
    "            if(r>=team2_expected_mdsv_pct):\n",
    "                # Adding a goal if the shot falls below the set shooting percentage\n",
    "                goals_scored_team1 += 1\n",
    "                goals_scored_onmd_team1 += 1\n",
    "                total_goals_team1 += 1\n",
    "                # Shot is saved, no goal is added\n",
    "            else:\n",
    "                goals_scored_team1 += 0\n",
    "       \n",
    "                \n",
    "        for k in range(0, team1_expected_hdshots_game + 1):\n",
    "            # using np.random.random to generate random floats between 1 and 0\n",
    "            # if the number hits above the save percentage threshold then a goal is scored\n",
    "            # otherwise the shot is saved by the goalie.\n",
    "            \n",
    "            \n",
    "            r = np.random.random()\n",
    "            if(r>=team2_expected_hdsv_pct):\n",
    "                # Adding a goal if the shot falls below the set shooting percentage\n",
    "                goals_scored_team1 += 1\n",
    "                goals_scored_onhd_team1 += 1\n",
    "                total_goals_team1 += 1\n",
    "                # Shot is saved, no goal is added\n",
    "            else:\n",
    "                goals_scored_team1 += 0\n",
    "      \n",
    "                \n",
    "                \n",
    "\n",
    "        for k in range(0, team2_expected_ldshots_game + 1):\n",
    "            # Running the same for loop for team 2\n",
    "            r = np.random.random()\n",
    "            if(r>=team1_expected_ldsv_pct):\n",
    "                goals_scored_team2 += 1\n",
    "                goals_scored_onld_team2 += 1\n",
    "                total_goals_team2 += 1\n",
    "            else: \n",
    "                goals_scored_team2 += 0\n",
    "                \n",
    "        for k in range(0, team2_expected_mdshots_game + 1):\n",
    "            # Running the same for loop for team 2\n",
    "            r = np.random.random()\n",
    "            if(r>=team1_expected_mdsv_pct):\n",
    "                goals_scored_team2 += 1\n",
    "                goals_scored_onmd_team2 +=1\n",
    "                total_goals_team2 += 1\n",
    "            else: \n",
    "                goals_scored_team2 += 0\n",
    "                \n",
    "        for k in range(0, team2_expected_hdshots_game + 1):\n",
    "            # Running the same for loop for team 2\n",
    "            r = np.random.random()\n",
    "            if(r>=team1_expected_hdsv_pct):\n",
    "                goals_scored_team2 += 1\n",
    "                goals_scored_onhd_team2 +=1\n",
    "                total_goals_team2 += 1\n",
    "            else: \n",
    "                goals_scored_team2 += 0\n",
    "                \n",
    "                \n",
    "        # Calculating which team won the game\n",
    "        # If team1 scored more, they get a victory\n",
    "        if goals_scored_team1 > goals_scored_team2:\n",
    "        # The victory is added to their total victories\n",
    "            team1_victories += 1\n",
    "        # The same is done for team 2\n",
    "        if goals_scored_team2 > goals_scored_team1:\n",
    "            team2_victories += 1\n",
    "        # the score is tied, the game goes into overtime\n",
    "        if goals_scored_team1 == goals_scored_team2:\n",
    "            overtime +=1 \n",
    "\n",
    "    \n",
    "    # Creating a dataframe to make the odds of winning easier to see for each team\n",
    "    team1_chance = team1_victories/1000\n",
    "    team2_chance = team2_victories/1000\n",
    "    overtime_chance = overtime/1000\n",
    "    # Setting up the colums and rows with the data from the simulation\n",
    "    odds = {\"Team\": [team1_name, team2_name, \"Overtime\"], \"Chance of Winning\": [team1_chance, team2_chance, overtime_chance]}\n",
    "    # Creating a dataframe from the new data\n",
    "    odds_df = pd.DataFrame(data = odds)\n",
    "    # Setting the index as the Team column\n",
    "    odds_df = odds_df.set_index(\"Team\")\n",
    "    # Displaying the dataframe\n",
    "    display(odds_df)\n",
    "    \n",
    "    # Creating a plot using a horizontal bar chart so the results are easy to process\n",
    "    plt.figure()\n",
    "    odds_df.iloc[0:3].plot(kind='barh', figsize=(10,5), fontsize=12, xticks = (np.arange(0, 70, step=10)))\n",
    "    plt.gca().invert_yaxis()\n",
    "    plt.xlabel('Chance of winning', fontsize=12)\n",
    "    plt.ylabel('Team', fontsize=12)\n",
    "    for index, value in enumerate(odds_df['Chance of Winning']):\n",
    "        plt.text(value, index, str(value), fontsize=12)\n",
    "    plt.title(f'Monte Carlo Simulation for the matchup between the {team1_name} and the {team2_name}')\n",
    "    plt.show()\n",
    "    \n",
    "    \n",
    "    \n",
    "    \n",
    "    # Printing the percent chance of team 1 winning, team 2 winning, and the game going to overtime\n",
    "    # as well as the goals and shots per game by each team, the goals scored in the different danger areas per game\n",
    "    # and the percentage of goals scored by danger location\n",
    "    print(f'{team1_name} chances of winning:',team1_victories/1000,'%','\\n'\n",
    "          f'{team2_name} chances of winning:',team2_victories/1000,'%','\\n'\n",
    "          f'Percent chance the game will go to overtime:',overtime/1000,'%','\\n',\n",
    "          '\\n',\n",
    "          f'Low Danger shots per game by {team1_name}:', team1_expected_ldshots_game,'\\n','\\n',\n",
    "          f'Medium Danger shots per game by {team1_name}:', team1_expected_mdshots_game,'\\n','\\n',\n",
    "          f'High Danger shots per game by {team1_name}:', team1_expected_hdshots_game,'\\n','\\n',\n",
    "          f'Low Danger shots per game by {team2_name}:', team2_expected_ldshots_game,'\\n','\\n',\n",
    "          f'Medium Danger shots per game by {team2_name}:', team2_expected_mdshots_game,'\\n','\\n',\n",
    "          f'High Danger shots per game by {team2_name}:', team2_expected_hdshots_game,'\\n','\\n',\n",
    "          f'Goals per game scored by the {team1_name}:', total_goals_team1/100000, '\\n','\\n',\n",
    "          f'Goals per game scored by the {team2_name}:', total_goals_team2/100000, '\\n','\\n',\n",
    "          f'Low danger goals per game scored by {team1_name}:', goals_scored_onld_team1/100000, '\\n','\\n',\n",
    "          f'Medium danger goals per game scored by {team1_name}:', goals_scored_onmd_team1/100000, '\\n','\\n',\n",
    "          f'High danger goals per game scored by {team1_name}:', goals_scored_onhd_team1/100000, '\\n','\\n',\n",
    "          f'Low danger goals per game scored by {team2_name}:', goals_scored_onld_team2/100000, '\\n','\\n',\n",
    "          f'Medium danger goals per game scored by {team2_name}:', goals_scored_onmd_team2/100000, '\\n','\\n',\n",
    "          f'High danger goals per game scored by {team2_name}:', goals_scored_onhd_team2/100000, '\\n','\\n',\n",
    "          f'Percent of total goals scored on Low danger shots by {team1_name}:', round(((goals_scored_onld_team1/total_goals_team1)*100),2), '\\n','\\n',\n",
    "          f'Percent of total goals scored on Low danger shots by {team2_name}:', round(((goals_scored_onld_team2/total_goals_team2)*100),2), '\\n','\\n',\n",
    "          f'Percent of total goals scored on Medium danger shots by {team1_name}:', round(((goals_scored_onmd_team1/total_goals_team1)*100),2), '\\n','\\n',\n",
    "          f'Percent of total goals scored on Medium danger shots by {team2_name}:', round(((goals_scored_onmd_team2/total_goals_team2)*100),2), '\\n','\\n',\n",
    "          f'Percent of total goals scored on High danger shots by {team1_name}:', round(((goals_scored_onhd_team1/total_goals_team1)*100),2), '\\n','\\n',\n",
    "          f'Percent of total goals scored on High danger shots by {team2_name}:', round(((goals_scored_onhd_team2/total_goals_team2)*100),2), '\\n','\\n',)"
   ]
  },
  {
   "cell_type": "markdown",
   "id": "9113ac7a",
   "metadata": {},
   "source": [
    "Now that we've built the function, let's test it by running it with several different teams. "
   ]
  },
  {
   "cell_type": "code",
   "execution_count": 59,
   "id": "56b4d2c3",
   "metadata": {
    "scrolled": false
   },
   "outputs": [
    {
     "data": {
      "text/html": [
       "<div>\n",
       "<style scoped>\n",
       "    .dataframe tbody tr th:only-of-type {\n",
       "        vertical-align: middle;\n",
       "    }\n",
       "\n",
       "    .dataframe tbody tr th {\n",
       "        vertical-align: top;\n",
       "    }\n",
       "\n",
       "    .dataframe thead th {\n",
       "        text-align: right;\n",
       "    }\n",
       "</style>\n",
       "<table border=\"1\" class=\"dataframe\">\n",
       "  <thead>\n",
       "    <tr style=\"text-align: right;\">\n",
       "      <th></th>\n",
       "      <th>Chance of Winning</th>\n",
       "    </tr>\n",
       "    <tr>\n",
       "      <th>Team</th>\n",
       "      <th></th>\n",
       "    </tr>\n",
       "  </thead>\n",
       "  <tbody>\n",
       "    <tr>\n",
       "      <th>Washington Capitals</th>\n",
       "      <td>42.173</td>\n",
       "    </tr>\n",
       "    <tr>\n",
       "      <th>Boston Bruins</th>\n",
       "      <td>37.239</td>\n",
       "    </tr>\n",
       "    <tr>\n",
       "      <th>Overtime</th>\n",
       "      <td>20.588</td>\n",
       "    </tr>\n",
       "  </tbody>\n",
       "</table>\n",
       "</div>"
      ],
      "text/plain": [
       "                     Chance of Winning\n",
       "Team                                  \n",
       "Washington Capitals             42.173\n",
       "Boston Bruins                   37.239\n",
       "Overtime                        20.588"
      ]
     },
     "metadata": {},
     "output_type": "display_data"
    },
    {
     "data": {
      "text/plain": [
       "<Figure size 432x288 with 0 Axes>"
      ]
     },
     "metadata": {},
     "output_type": "display_data"
    },
    {
     "data": {
      "image/png": "[encoded data removed]",
      "text/plain": [
       "<Figure size 720x360 with 1 Axes>"
      ]
     },
     "metadata": {
      "needs_background": "light"
     },
     "output_type": "display_data"
    },
    {
     "name": "stdout",
     "output_type": "stream",
     "text": [
      "Washington Capitals chances of winning: 42.173 % \n",
      "Boston Bruins chances of winning: 37.239 % \n",
      "Percent chance the game will go to overtime: 20.588 % \n",
      " \n",
      " Low Danger shots per game by Washington Capitals: 9 \n",
      " \n",
      " Medium Danger shots per game by Washington Capitals: 5 \n",
      " \n",
      " High Danger shots per game by Washington Capitals: 5 \n",
      " \n",
      " Low Danger shots per game by Boston Bruins: 12 \n",
      " \n",
      " Medium Danger shots per game by Boston Bruins: 7 \n",
      " \n",
      " High Danger shots per game by Boston Bruins: 5 \n",
      " \n",
      " Goals per game scored by the Washington Capitals: 2.30211 \n",
      " \n",
      " Goals per game scored by the Boston Bruins: 2.17823 \n",
      " \n",
      " Low danger goals per game scored by Washington Capitals: 0.52263 \n",
      " \n",
      " Medium danger goals per game scored by Washington Capitals: 0.61858 \n",
      " \n",
      " High danger goals per game scored by Washington Capitals: 1.1609 \n",
      " \n",
      " Low danger goals per game scored by Boston Bruins: 0.35782 \n",
      " \n",
      " Medium danger goals per game scored by Boston Bruins: 0.66915 \n",
      " \n",
      " High danger goals per game scored by Boston Bruins: 1.15126 \n",
      " \n",
      " Percent of total goals scored on Low danger shots by Washington Capitals: 22.7 \n",
      " \n",
      " Percent of total goals scored on Low danger shots by Boston Bruins: 16.43 \n",
      " \n",
      " Percent of total goals scored on Medium danger shots by Washington Capitals: 26.87 \n",
      " \n",
      " Percent of total goals scored on Medium danger shots by Boston Bruins: 30.72 \n",
      " \n",
      " Percent of total goals scored on High danger shots by Washington Capitals: 50.43 \n",
      " \n",
      " Percent of total goals scored on High danger shots by Boston Bruins: 52.85 \n",
      " \n",
      "\n"
     ]
    }
   ],
   "source": [
    "monte_carlo_matchup('Washington Capitals', 'Boston Bruins')"
   ]
  },
  {
   "cell_type": "code",
   "execution_count": 60,
   "id": "1579ed7f",
   "metadata": {},
   "outputs": [
    {
     "data": {
      "text/html": [
       "<div>\n",
       "<style scoped>\n",
       "    .dataframe tbody tr th:only-of-type {\n",
       "        vertical-align: middle;\n",
       "    }\n",
       "\n",
       "    .dataframe tbody tr th {\n",
       "        vertical-align: top;\n",
       "    }\n",
       "\n",
       "    .dataframe thead th {\n",
       "        text-align: right;\n",
       "    }\n",
       "</style>\n",
       "<table border=\"1\" class=\"dataframe\">\n",
       "  <thead>\n",
       "    <tr style=\"text-align: right;\">\n",
       "      <th></th>\n",
       "      <th>Chance of Winning</th>\n",
       "    </tr>\n",
       "    <tr>\n",
       "      <th>Team</th>\n",
       "      <th></th>\n",
       "    </tr>\n",
       "  </thead>\n",
       "  <tbody>\n",
       "    <tr>\n",
       "      <th>Dallas Stars</th>\n",
       "      <td>49.073</td>\n",
       "    </tr>\n",
       "    <tr>\n",
       "      <th>Arizona Coyotes</th>\n",
       "      <td>30.103</td>\n",
       "    </tr>\n",
       "    <tr>\n",
       "      <th>Overtime</th>\n",
       "      <td>20.824</td>\n",
       "    </tr>\n",
       "  </tbody>\n",
       "</table>\n",
       "</div>"
      ],
      "text/plain": [
       "                 Chance of Winning\n",
       "Team                              \n",
       "Dallas Stars                49.073\n",
       "Arizona Coyotes             30.103\n",
       "Overtime                    20.824"
      ]
     },
     "metadata": {},
     "output_type": "display_data"
    },
    {
     "data": {
      "text/plain": [
       "<Figure size 432x288 with 0 Axes>"
      ]
     },
     "metadata": {},
     "output_type": "display_data"
    },
    {
     "data": {
      "image/png": "[encoded data removed]",
      "text/plain": [
       "<Figure size 720x360 with 1 Axes>"
      ]
     },
     "metadata": {
      "needs_background": "light"
     },
     "output_type": "display_data"
    },
    {
     "name": "stdout",
     "output_type": "stream",
     "text": [
      "Dallas Stars chances of winning: 49.073 % \n",
      "Arizona Coyotes chances of winning: 30.103 % \n",
      "Percent chance the game will go to overtime: 20.824 % \n",
      " \n",
      " Low Danger shots per game by Dallas Stars: 9 \n",
      " \n",
      " Medium Danger shots per game by Dallas Stars: 7 \n",
      " \n",
      " High Danger shots per game by Dallas Stars: 7 \n",
      " \n",
      " Low Danger shots per game by Arizona Coyotes: 8 \n",
      " \n",
      " Medium Danger shots per game by Arizona Coyotes: 5 \n",
      " \n",
      " High Danger shots per game by Arizona Coyotes: 5 \n",
      " \n",
      " Goals per game scored by the Dallas Stars: 2.31001 \n",
      " \n",
      " Goals per game scored by the Arizona Coyotes: 1.83769 \n",
      " \n",
      " Low danger goals per game scored by Dallas Stars: 0.0662 \n",
      " \n",
      " Medium danger goals per game scored by Dallas Stars: 0.73755 \n",
      " \n",
      " High danger goals per game scored by Dallas Stars: 1.50626 \n",
      " \n",
      " Low danger goals per game scored by Arizona Coyotes: 0.34074 \n",
      " \n",
      " Medium danger goals per game scored by Arizona Coyotes: 0.59698 \n",
      " \n",
      " High danger goals per game scored by Arizona Coyotes: 0.89997 \n",
      " \n",
      " Percent of total goals scored on Low danger shots by Dallas Stars: 2.87 \n",
      " \n",
      " Percent of total goals scored on Low danger shots by Arizona Coyotes: 18.54 \n",
      " \n",
      " Percent of total goals scored on Medium danger shots by Dallas Stars: 31.93 \n",
      " \n",
      " Percent of total goals scored on Medium danger shots by Arizona Coyotes: 32.49 \n",
      " \n",
      " Percent of total goals scored on High danger shots by Dallas Stars: 65.21 \n",
      " \n",
      " Percent of total goals scored on High danger shots by Arizona Coyotes: 48.97 \n",
      " \n",
      "\n"
     ]
    }
   ],
   "source": [
    "monte_carlo_matchup('Dallas Stars', 'Arizona Coyotes')"
   ]
  },
  {
   "cell_type": "code",
   "execution_count": 61,
   "id": "96f22b06",
   "metadata": {},
   "outputs": [
    {
     "data": {
      "text/html": [
       "<div>\n",
       "<style scoped>\n",
       "    .dataframe tbody tr th:only-of-type {\n",
       "        vertical-align: middle;\n",
       "    }\n",
       "\n",
       "    .dataframe tbody tr th {\n",
       "        vertical-align: top;\n",
       "    }\n",
       "\n",
       "    .dataframe thead th {\n",
       "        text-align: right;\n",
       "    }\n",
       "</style>\n",
       "<table border=\"1\" class=\"dataframe\">\n",
       "  <thead>\n",
       "    <tr style=\"text-align: right;\">\n",
       "      <th></th>\n",
       "      <th>Chance of Winning</th>\n",
       "    </tr>\n",
       "    <tr>\n",
       "      <th>Team</th>\n",
       "      <th></th>\n",
       "    </tr>\n",
       "  </thead>\n",
       "  <tbody>\n",
       "    <tr>\n",
       "      <th>San Jose Sharks</th>\n",
       "      <td>17.721</td>\n",
       "    </tr>\n",
       "    <tr>\n",
       "      <th>Colorado Avalanche</th>\n",
       "      <td>66.508</td>\n",
       "    </tr>\n",
       "    <tr>\n",
       "      <th>Overtime</th>\n",
       "      <td>15.771</td>\n",
       "    </tr>\n",
       "  </tbody>\n",
       "</table>\n",
       "</div>"
      ],
      "text/plain": [
       "                    Chance of Winning\n",
       "Team                                 \n",
       "San Jose Sharks                17.721\n",
       "Colorado Avalanche             66.508\n",
       "Overtime                       15.771"
      ]
     },
     "metadata": {},
     "output_type": "display_data"
    },
    {
     "data": {
      "text/plain": [
       "<Figure size 432x288 with 0 Axes>"
      ]
     },
     "metadata": {},
     "output_type": "display_data"
    },
    {
     "data": {
      "image/png": "[encoded data removed]",
      "text/plain": [
       "<Figure size 720x360 with 1 Axes>"
      ]
     },
     "metadata": {
      "needs_background": "light"
     },
     "output_type": "display_data"
    },
    {
     "name": "stdout",
     "output_type": "stream",
     "text": [
      "San Jose Sharks chances of winning: 17.721 % \n",
      "Colorado Avalanche chances of winning: 66.508 % \n",
      "Percent chance the game will go to overtime: 15.771 % \n",
      " \n",
      " Low Danger shots per game by San Jose Sharks: 7 \n",
      " \n",
      " Medium Danger shots per game by San Jose Sharks: 5 \n",
      " \n",
      " High Danger shots per game by San Jose Sharks: 6 \n",
      " \n",
      " Low Danger shots per game by Colorado Avalanche: 12 \n",
      " \n",
      " Medium Danger shots per game by Colorado Avalanche: 8 \n",
      " \n",
      " High Danger shots per game by Colorado Avalanche: 7 \n",
      " \n",
      " Goals per game scored by the San Jose Sharks: 1.76837 \n",
      " \n",
      " Goals per game scored by the Colorado Avalanche: 3.158 \n",
      " \n",
      " Low danger goals per game scored by San Jose Sharks: 0.20642 \n",
      " \n",
      " Medium danger goals per game scored by San Jose Sharks: 0.69278 \n",
      " \n",
      " High danger goals per game scored by San Jose Sharks: 0.86917 \n",
      " \n",
      " Low danger goals per game scored by Colorado Avalanche: 0.56138 \n",
      " \n",
      " Medium danger goals per game scored by Colorado Avalanche: 1.02253 \n",
      " \n",
      " High danger goals per game scored by Colorado Avalanche: 1.57409 \n",
      " \n",
      " Percent of total goals scored on Low danger shots by San Jose Sharks: 11.67 \n",
      " \n",
      " Percent of total goals scored on Low danger shots by Colorado Avalanche: 17.78 \n",
      " \n",
      " Percent of total goals scored on Medium danger shots by San Jose Sharks: 39.18 \n",
      " \n",
      " Percent of total goals scored on Medium danger shots by Colorado Avalanche: 32.38 \n",
      " \n",
      " Percent of total goals scored on High danger shots by San Jose Sharks: 49.15 \n",
      " \n",
      " Percent of total goals scored on High danger shots by Colorado Avalanche: 49.84 \n",
      " \n",
      "\n"
     ]
    }
   ],
   "source": [
    "monte_carlo_matchup('San Jose Sharks', 'Colorado Avalanche')"
   ]
  },
  {
   "cell_type": "code",
   "execution_count": 62,
   "id": "30e2a0fb",
   "metadata": {},
   "outputs": [
    {
     "data": {
      "text/html": [
       "<div>\n",
       "<style scoped>\n",
       "    .dataframe tbody tr th:only-of-type {\n",
       "        vertical-align: middle;\n",
       "    }\n",
       "\n",
       "    .dataframe tbody tr th {\n",
       "        vertical-align: top;\n",
       "    }\n",
       "\n",
       "    .dataframe thead th {\n",
       "        text-align: right;\n",
       "    }\n",
       "</style>\n",
       "<table border=\"1\" class=\"dataframe\">\n",
       "  <thead>\n",
       "    <tr style=\"text-align: right;\">\n",
       "      <th></th>\n",
       "      <th>Chance of Winning</th>\n",
       "    </tr>\n",
       "    <tr>\n",
       "      <th>Team</th>\n",
       "      <th></th>\n",
       "    </tr>\n",
       "  </thead>\n",
       "  <tbody>\n",
       "    <tr>\n",
       "      <th>Vegas Golden Knights</th>\n",
       "      <td>52.581</td>\n",
       "    </tr>\n",
       "    <tr>\n",
       "      <th>Montreal Canadiens</th>\n",
       "      <td>27.876</td>\n",
       "    </tr>\n",
       "    <tr>\n",
       "      <th>Overtime</th>\n",
       "      <td>19.543</td>\n",
       "    </tr>\n",
       "  </tbody>\n",
       "</table>\n",
       "</div>"
      ],
      "text/plain": [
       "                      Chance of Winning\n",
       "Team                                   \n",
       "Vegas Golden Knights             52.581\n",
       "Montreal Canadiens               27.876\n",
       "Overtime                         19.543"
      ]
     },
     "metadata": {},
     "output_type": "display_data"
    },
    {
     "data": {
      "text/plain": [
       "<Figure size 432x288 with 0 Axes>"
      ]
     },
     "metadata": {},
     "output_type": "display_data"
    },
    {
     "data": {
      "image/png": "[encoded data removed]",
      "text/plain": [
       "<Figure size 720x360 with 1 Axes>"
      ]
     },
     "metadata": {
      "needs_background": "light"
     },
     "output_type": "display_data"
    },
    {
     "name": "stdout",
     "output_type": "stream",
     "text": [
      "Vegas Golden Knights chances of winning: 52.581 % \n",
      "Montreal Canadiens chances of winning: 27.876 % \n",
      "Percent chance the game will go to overtime: 19.543 % \n",
      " \n",
      " Low Danger shots per game by Vegas Golden Knights: 9 \n",
      " \n",
      " Medium Danger shots per game by Vegas Golden Knights: 6 \n",
      " \n",
      " High Danger shots per game by Vegas Golden Knights: 6 \n",
      " \n",
      " Low Danger shots per game by Montreal Canadiens: 10 \n",
      " \n",
      " Medium Danger shots per game by Montreal Canadiens: 6 \n",
      " \n",
      " High Danger shots per game by Montreal Canadiens: 6 \n",
      " \n",
      " Goals per game scored by the Vegas Golden Knights: 2.53878 \n",
      " \n",
      " Goals per game scored by the Montreal Canadiens: 1.90377 \n",
      " \n",
      " Low danger goals per game scored by Vegas Golden Knights: 0.25114 \n",
      " \n",
      " Medium danger goals per game scored by Vegas Golden Knights: 0.94144 \n",
      " \n",
      " High danger goals per game scored by Vegas Golden Knights: 1.3462 \n",
      " \n",
      " Low danger goals per game scored by Montreal Canadiens: 0.20916 \n",
      " \n",
      " Medium danger goals per game scored by Montreal Canadiens: 0.49349 \n",
      " \n",
      " High danger goals per game scored by Montreal Canadiens: 1.20112 \n",
      " \n",
      " Percent of total goals scored on Low danger shots by Vegas Golden Knights: 9.89 \n",
      " \n",
      " Percent of total goals scored on Low danger shots by Montreal Canadiens: 10.99 \n",
      " \n",
      " Percent of total goals scored on Medium danger shots by Vegas Golden Knights: 37.08 \n",
      " \n",
      " Percent of total goals scored on Medium danger shots by Montreal Canadiens: 25.92 \n",
      " \n",
      " Percent of total goals scored on High danger shots by Vegas Golden Knights: 53.03 \n",
      " \n",
      " Percent of total goals scored on High danger shots by Montreal Canadiens: 63.09 \n",
      " \n",
      "\n"
     ]
    }
   ],
   "source": [
    "monte_carlo_matchup('Vegas Golden Knights', 'Montreal Canadiens')"
   ]
  },
  {
   "cell_type": "code",
   "execution_count": 63,
   "id": "5c2e54cc",
   "metadata": {},
   "outputs": [
    {
     "data": {
      "text/html": [
       "<div>\n",
       "<style scoped>\n",
       "    .dataframe tbody tr th:only-of-type {\n",
       "        vertical-align: middle;\n",
       "    }\n",
       "\n",
       "    .dataframe tbody tr th {\n",
       "        vertical-align: top;\n",
       "    }\n",
       "\n",
       "    .dataframe thead th {\n",
       "        text-align: right;\n",
       "    }\n",
       "</style>\n",
       "<table border=\"1\" class=\"dataframe\">\n",
       "  <thead>\n",
       "    <tr style=\"text-align: right;\">\n",
       "      <th></th>\n",
       "      <th>Chance of Winning</th>\n",
       "    </tr>\n",
       "    <tr>\n",
       "      <th>Team</th>\n",
       "      <th></th>\n",
       "    </tr>\n",
       "  </thead>\n",
       "  <tbody>\n",
       "    <tr>\n",
       "      <th>Anaheim Ducks</th>\n",
       "      <td>34.264</td>\n",
       "    </tr>\n",
       "    <tr>\n",
       "      <th>Edmonton Oilers</th>\n",
       "      <td>46.522</td>\n",
       "    </tr>\n",
       "    <tr>\n",
       "      <th>Overtime</th>\n",
       "      <td>19.214</td>\n",
       "    </tr>\n",
       "  </tbody>\n",
       "</table>\n",
       "</div>"
      ],
      "text/plain": [
       "                 Chance of Winning\n",
       "Team                              \n",
       "Anaheim Ducks               34.264\n",
       "Edmonton Oilers             46.522\n",
       "Overtime                    19.214"
      ]
     },
     "metadata": {},
     "output_type": "display_data"
    },
    {
     "data": {
      "text/plain": [
       "<Figure size 432x288 with 0 Axes>"
      ]
     },
     "metadata": {},
     "output_type": "display_data"
    },
    {
     "data": {
      "image/png": "[encoded data removed]",
      "text/plain": [
       "<Figure size 720x360 with 1 Axes>"
      ]
     },
     "metadata": {
      "needs_background": "light"
     },
     "output_type": "display_data"
    },
    {
     "name": "stdout",
     "output_type": "stream",
     "text": [
      "Anaheim Ducks chances of winning: 34.264 % \n",
      "Edmonton Oilers chances of winning: 46.522 % \n",
      "Percent chance the game will go to overtime: 19.214 % \n",
      " \n",
      " Low Danger shots per game by Anaheim Ducks: 9 \n",
      " \n",
      " Medium Danger shots per game by Anaheim Ducks: 7 \n",
      " \n",
      " High Danger shots per game by Anaheim Ducks: 6 \n",
      " \n",
      " Low Danger shots per game by Edmonton Oilers: 9 \n",
      " \n",
      " Medium Danger shots per game by Edmonton Oilers: 7 \n",
      " \n",
      " High Danger shots per game by Edmonton Oilers: 7 \n",
      " \n",
      " Goals per game scored by the Anaheim Ducks: 2.30139 \n",
      " \n",
      " Goals per game scored by the Edmonton Oilers: 2.63596 \n",
      " \n",
      " Low danger goals per game scored by Anaheim Ducks: 0.30316 \n",
      " \n",
      " Medium danger goals per game scored by Anaheim Ducks: 0.78263 \n",
      " \n",
      " High danger goals per game scored by Anaheim Ducks: 1.2156 \n",
      " \n",
      " Low danger goals per game scored by Edmonton Oilers: 0.1322 \n",
      " \n",
      " Medium danger goals per game scored by Edmonton Oilers: 1.05648 \n",
      " \n",
      " High danger goals per game scored by Edmonton Oilers: 1.44728 \n",
      " \n",
      " Percent of total goals scored on Low danger shots by Anaheim Ducks: 13.17 \n",
      " \n",
      " Percent of total goals scored on Low danger shots by Edmonton Oilers: 5.02 \n",
      " \n",
      " Percent of total goals scored on Medium danger shots by Anaheim Ducks: 34.01 \n",
      " \n",
      " Percent of total goals scored on Medium danger shots by Edmonton Oilers: 40.08 \n",
      " \n",
      " Percent of total goals scored on High danger shots by Anaheim Ducks: 52.82 \n",
      " \n",
      " Percent of total goals scored on High danger shots by Edmonton Oilers: 54.91 \n",
      " \n",
      "\n"
     ]
    }
   ],
   "source": [
    "monte_carlo_matchup('Anaheim Ducks', 'Edmonton Oilers')"
   ]
  },
  {
   "cell_type": "code",
   "execution_count": 64,
   "id": "6061be75",
   "metadata": {},
   "outputs": [
    {
     "data": {
      "text/html": [
       "<div>\n",
       "<style scoped>\n",
       "    .dataframe tbody tr th:only-of-type {\n",
       "        vertical-align: middle;\n",
       "    }\n",
       "\n",
       "    .dataframe tbody tr th {\n",
       "        vertical-align: top;\n",
       "    }\n",
       "\n",
       "    .dataframe thead th {\n",
       "        text-align: right;\n",
       "    }\n",
       "</style>\n",
       "<table border=\"1\" class=\"dataframe\">\n",
       "  <thead>\n",
       "    <tr style=\"text-align: right;\">\n",
       "      <th></th>\n",
       "      <th>Chance of Winning</th>\n",
       "    </tr>\n",
       "    <tr>\n",
       "      <th>Team</th>\n",
       "      <th></th>\n",
       "    </tr>\n",
       "  </thead>\n",
       "  <tbody>\n",
       "    <tr>\n",
       "      <th>Philadelphia Flyers</th>\n",
       "      <td>21.542</td>\n",
       "    </tr>\n",
       "    <tr>\n",
       "      <th>New York Islanders</th>\n",
       "      <td>60.578</td>\n",
       "    </tr>\n",
       "    <tr>\n",
       "      <th>Overtime</th>\n",
       "      <td>17.880</td>\n",
       "    </tr>\n",
       "  </tbody>\n",
       "</table>\n",
       "</div>"
      ],
      "text/plain": [
       "                     Chance of Winning\n",
       "Team                                  \n",
       "Philadelphia Flyers             21.542\n",
       "New York Islanders              60.578\n",
       "Overtime                        17.880"
      ]
     },
     "metadata": {},
     "output_type": "display_data"
    },
    {
     "data": {
      "text/plain": [
       "<Figure size 432x288 with 0 Axes>"
      ]
     },
     "metadata": {},
     "output_type": "display_data"
    },
    {
     "data": {
      "image/png": "[encoded data removed]",
      "text/plain": [
       "<Figure size 720x360 with 1 Axes>"
      ]
     },
     "metadata": {
      "needs_background": "light"
     },
     "output_type": "display_data"
    },
    {
     "name": "stdout",
     "output_type": "stream",
     "text": [
      "Philadelphia Flyers chances of winning: 21.542 % \n",
      "New York Islanders chances of winning: 60.578 % \n",
      "Percent chance the game will go to overtime: 17.88 % \n",
      " \n",
      " Low Danger shots per game by Philadelphia Flyers: 11 \n",
      " \n",
      " Medium Danger shots per game by Philadelphia Flyers: 6 \n",
      " \n",
      " High Danger shots per game by Philadelphia Flyers: 5 \n",
      " \n",
      " Low Danger shots per game by New York Islanders: 9 \n",
      " \n",
      " Medium Danger shots per game by New York Islanders: 5 \n",
      " \n",
      " High Danger shots per game by New York Islanders: 8 \n",
      " \n",
      " Goals per game scored by the Philadelphia Flyers: 1.84217 \n",
      " \n",
      " Goals per game scored by the New York Islanders: 2.89213 \n",
      " \n",
      " Low danger goals per game scored by Philadelphia Flyers: 0.21217 \n",
      " \n",
      " Medium danger goals per game scored by Philadelphia Flyers: 0.49079 \n",
      " \n",
      " High danger goals per game scored by Philadelphia Flyers: 1.13921 \n",
      " \n",
      " Low danger goals per game scored by New York Islanders: 0.39509 \n",
      " \n",
      " Medium danger goals per game scored by New York Islanders: 0.64505 \n",
      " \n",
      " High danger goals per game scored by New York Islanders: 1.85199 \n",
      " \n",
      " Percent of total goals scored on Low danger shots by Philadelphia Flyers: 11.52 \n",
      " \n",
      " Percent of total goals scored on Low danger shots by New York Islanders: 13.66 \n",
      " \n",
      " Percent of total goals scored on Medium danger shots by Philadelphia Flyers: 26.64 \n",
      " \n",
      " Percent of total goals scored on Medium danger shots by New York Islanders: 22.3 \n",
      " \n",
      " Percent of total goals scored on High danger shots by Philadelphia Flyers: 61.84 \n",
      " \n",
      " Percent of total goals scored on High danger shots by New York Islanders: 64.04 \n",
      " \n",
      "\n"
     ]
    }
   ],
   "source": [
    "monte_carlo_matchup('Philadelphia Flyers', 'New York Islanders')"
   ]
  },
  {
   "cell_type": "markdown",
   "id": "48b34089",
   "metadata": {},
   "source": [
    "#### Simulations are running great! "
   ]
  },
  {
   "cell_type": "markdown",
   "id": "92bd0ae2",
   "metadata": {},
   "source": [
    "Let's see how my basic model compares to a collaboration of some of the best modelers on Twitter for the 3rd round the recent NHL players."
   ]
  },
  {
   "cell_type": "code",
   "execution_count": 65,
   "id": "014c4c85",
   "metadata": {
    "scrolled": false
   },
   "outputs": [
    {
     "data": {
      "text/html": [
       "<div>\n",
       "<style scoped>\n",
       "    .dataframe tbody tr th:only-of-type {\n",
       "        vertical-align: middle;\n",
       "    }\n",
       "\n",
       "    .dataframe tbody tr th {\n",
       "        vertical-align: top;\n",
       "    }\n",
       "\n",
       "    .dataframe thead th {\n",
       "        text-align: right;\n",
       "    }\n",
       "</style>\n",
       "<table border=\"1\" class=\"dataframe\">\n",
       "  <thead>\n",
       "    <tr style=\"text-align: right;\">\n",
       "      <th></th>\n",
       "      <th>Chance of Winning</th>\n",
       "    </tr>\n",
       "    <tr>\n",
       "      <th>Team</th>\n",
       "      <th></th>\n",
       "    </tr>\n",
       "  </thead>\n",
       "  <tbody>\n",
       "    <tr>\n",
       "      <th>Vegas Golden Knights</th>\n",
       "      <td>52.569</td>\n",
       "    </tr>\n",
       "    <tr>\n",
       "      <th>Montreal Canadiens</th>\n",
       "      <td>27.597</td>\n",
       "    </tr>\n",
       "    <tr>\n",
       "      <th>Overtime</th>\n",
       "      <td>19.834</td>\n",
       "    </tr>\n",
       "  </tbody>\n",
       "</table>\n",
       "</div>"
      ],
      "text/plain": [
       "                      Chance of Winning\n",
       "Team                                   \n",
       "Vegas Golden Knights             52.569\n",
       "Montreal Canadiens               27.597\n",
       "Overtime                         19.834"
      ]
     },
     "metadata": {},
     "output_type": "display_data"
    },
    {
     "data": {
      "text/plain": [
       "<Figure size 432x288 with 0 Axes>"
      ]
     },
     "metadata": {},
     "output_type": "display_data"
    },
    {
     "data": {
      "image/png": "[encoded data removed]",
      "text/plain": [
       "<Figure size 720x360 with 1 Axes>"
      ]
     },
     "metadata": {
      "needs_background": "light"
     },
     "output_type": "display_data"
    },
    {
     "name": "stdout",
     "output_type": "stream",
     "text": [
      "Vegas Golden Knights chances of winning: 52.569 % \n",
      "Montreal Canadiens chances of winning: 27.597 % \n",
      "Percent chance the game will go to overtime: 19.834 % \n",
      " \n",
      " Low Danger shots per game by Vegas Golden Knights: 9 \n",
      " \n",
      " Medium Danger shots per game by Vegas Golden Knights: 6 \n",
      " \n",
      " High Danger shots per game by Vegas Golden Knights: 6 \n",
      " \n",
      " Low Danger shots per game by Montreal Canadiens: 10 \n",
      " \n",
      " Medium Danger shots per game by Montreal Canadiens: 6 \n",
      " \n",
      " High Danger shots per game by Montreal Canadiens: 6 \n",
      " \n",
      " Goals per game scored by the Vegas Golden Knights: 2.53543 \n",
      " \n",
      " Goals per game scored by the Montreal Canadiens: 1.90219 \n",
      " \n",
      " Low danger goals per game scored by Vegas Golden Knights: 0.24877 \n",
      " \n",
      " Medium danger goals per game scored by Vegas Golden Knights: 0.9465 \n",
      " \n",
      " High danger goals per game scored by Vegas Golden Knights: 1.34016 \n",
      " \n",
      " Low danger goals per game scored by Montreal Canadiens: 0.21184 \n",
      " \n",
      " Medium danger goals per game scored by Montreal Canadiens: 0.4938 \n",
      " \n",
      " High danger goals per game scored by Montreal Canadiens: 1.19655 \n",
      " \n",
      " Percent of total goals scored on Low danger shots by Vegas Golden Knights: 9.81 \n",
      " \n",
      " Percent of total goals scored on Low danger shots by Montreal Canadiens: 11.14 \n",
      " \n",
      " Percent of total goals scored on Medium danger shots by Vegas Golden Knights: 37.33 \n",
      " \n",
      " Percent of total goals scored on Medium danger shots by Montreal Canadiens: 25.96 \n",
      " \n",
      " Percent of total goals scored on High danger shots by Vegas Golden Knights: 52.86 \n",
      " \n",
      " Percent of total goals scored on High danger shots by Montreal Canadiens: 62.9 \n",
      " \n",
      "\n"
     ]
    }
   ],
   "source": [
    "monte_carlo_matchup('Vegas Golden Knights', 'Montreal Canadiens')"
   ]
  },
  {
   "cell_type": "code",
   "execution_count": 66,
   "id": "2a847fd6",
   "metadata": {},
   "outputs": [
    {
     "data": {
      "text/html": [
       "<div>\n",
       "<style scoped>\n",
       "    .dataframe tbody tr th:only-of-type {\n",
       "        vertical-align: middle;\n",
       "    }\n",
       "\n",
       "    .dataframe tbody tr th {\n",
       "        vertical-align: top;\n",
       "    }\n",
       "\n",
       "    .dataframe thead th {\n",
       "        text-align: right;\n",
       "    }\n",
       "</style>\n",
       "<table border=\"1\" class=\"dataframe\">\n",
       "  <thead>\n",
       "    <tr style=\"text-align: right;\">\n",
       "      <th></th>\n",
       "      <th>Chance of Winning</th>\n",
       "    </tr>\n",
       "    <tr>\n",
       "      <th>Team</th>\n",
       "      <th></th>\n",
       "    </tr>\n",
       "  </thead>\n",
       "  <tbody>\n",
       "    <tr>\n",
       "      <th>Tampa Bay Lightning</th>\n",
       "      <td>38.208</td>\n",
       "    </tr>\n",
       "    <tr>\n",
       "      <th>New York Islanders</th>\n",
       "      <td>39.686</td>\n",
       "    </tr>\n",
       "    <tr>\n",
       "      <th>Overtime</th>\n",
       "      <td>22.106</td>\n",
       "    </tr>\n",
       "  </tbody>\n",
       "</table>\n",
       "</div>"
      ],
      "text/plain": [
       "                     Chance of Winning\n",
       "Team                                  \n",
       "Tampa Bay Lightning             38.208\n",
       "New York Islanders              39.686\n",
       "Overtime                        22.106"
      ]
     },
     "metadata": {},
     "output_type": "display_data"
    },
    {
     "data": {
      "text/plain": [
       "<Figure size 432x288 with 0 Axes>"
      ]
     },
     "metadata": {},
     "output_type": "display_data"
    },
    {
     "data": {
      "image/png": "[encoded data removed]",
      "text/plain": [
       "<Figure size 720x360 with 1 Axes>"
      ]
     },
     "metadata": {
      "needs_background": "light"
     },
     "output_type": "display_data"
    },
    {
     "name": "stdout",
     "output_type": "stream",
     "text": [
      "Tampa Bay Lightning chances of winning: 38.208 % \n",
      "New York Islanders chances of winning: 39.686 % \n",
      "Percent chance the game will go to overtime: 22.106 % \n",
      " \n",
      " Low Danger shots per game by Tampa Bay Lightning: 10 \n",
      " \n",
      " Medium Danger shots per game by Tampa Bay Lightning: 7 \n",
      " \n",
      " High Danger shots per game by Tampa Bay Lightning: 6 \n",
      " \n",
      " Low Danger shots per game by New York Islanders: 7 \n",
      " \n",
      " Medium Danger shots per game by New York Islanders: 6 \n",
      " \n",
      " High Danger shots per game by New York Islanders: 7 \n",
      " \n",
      " Goals per game scored by the Tampa Bay Lightning: 1.89618 \n",
      " \n",
      " Goals per game scored by the New York Islanders: 1.93741 \n",
      " \n",
      " Low danger goals per game scored by Tampa Bay Lightning: 0.32688 \n",
      " \n",
      " Medium danger goals per game scored by Tampa Bay Lightning: 0.32768 \n",
      " \n",
      " High danger goals per game scored by Tampa Bay Lightning: 1.24162 \n",
      " \n",
      " Low danger goals per game scored by New York Islanders: 0.22528 \n",
      " \n",
      " Medium danger goals per game scored by New York Islanders: 0.56988 \n",
      " \n",
      " High danger goals per game scored by New York Islanders: 1.14225 \n",
      " \n",
      " Percent of total goals scored on Low danger shots by Tampa Bay Lightning: 17.24 \n",
      " \n",
      " Percent of total goals scored on Low danger shots by New York Islanders: 11.63 \n",
      " \n",
      " Percent of total goals scored on Medium danger shots by Tampa Bay Lightning: 17.28 \n",
      " \n",
      " Percent of total goals scored on Medium danger shots by New York Islanders: 29.41 \n",
      " \n",
      " Percent of total goals scored on High danger shots by Tampa Bay Lightning: 65.48 \n",
      " \n",
      " Percent of total goals scored on High danger shots by New York Islanders: 58.96 \n",
      " \n",
      "\n"
     ]
    }
   ],
   "source": [
    "monte_carlo_matchup('Tampa Bay Lightning', 'New York Islanders')"
   ]
  },
  {
   "attachments": {
    "NHLpredictions.png": {
     "image/png": "[encoded data removed]"
    }
   },
   "cell_type": "markdown",
   "id": "b5acd1a2",
   "metadata": {},
   "source": [
    "![NHLpredictions.png](attachment:NHLpredictions.png)"
   ]
  },
  {
   "cell_type": "markdown",
   "id": "e6a0c0c8",
   "metadata": {},
   "source": [
    "Interestingly, my model seemed to have favored the New York Islanders much more than most of the other models. Actually favoring them to win 39% of the time, while Tampa was favored to win only 38% of the time. My model also heavily favored Vegas over the Montreal Canadiens 52% to 28%. One clear distinction between my models and these is that I have not yet corrected for overtime games and odds in those games. Still, I am quite happy with my basic model and how it compares with these more established models. \n",
    "\n",
    "Credit to [hockey-statistics](https://twitter.com/hockeystatisti1) who compiled these on Twitter. "
   ]
  },
  {
   "cell_type": "markdown",
   "id": "32418a90",
   "metadata": {},
   "source": [
    "## Simulation to Use in Pro Scouting"
   ]
  },
  {
   "cell_type": "code",
   "execution_count": 67,
   "id": "f682d2e5",
   "metadata": {
    "scrolled": true
   },
   "outputs": [
    {
     "data": {
      "text/html": [
       "<div>\n",
       "<style scoped>\n",
       "    .dataframe tbody tr th:only-of-type {\n",
       "        vertical-align: middle;\n",
       "    }\n",
       "\n",
       "    .dataframe tbody tr th {\n",
       "        vertical-align: top;\n",
       "    }\n",
       "\n",
       "    .dataframe thead th {\n",
       "        text-align: right;\n",
       "    }\n",
       "</style>\n",
       "<table border=\"1\" class=\"dataframe\">\n",
       "  <thead>\n",
       "    <tr style=\"text-align: right;\">\n",
       "      <th></th>\n",
       "      <th>Chance of Winning</th>\n",
       "    </tr>\n",
       "    <tr>\n",
       "      <th>Team</th>\n",
       "      <th></th>\n",
       "    </tr>\n",
       "  </thead>\n",
       "  <tbody>\n",
       "    <tr>\n",
       "      <th>Toronto Maple Leafs</th>\n",
       "      <td>57.155</td>\n",
       "    </tr>\n",
       "    <tr>\n",
       "      <th>Montreal Canadiens</th>\n",
       "      <td>23.968</td>\n",
       "    </tr>\n",
       "    <tr>\n",
       "      <th>Overtime</th>\n",
       "      <td>18.877</td>\n",
       "    </tr>\n",
       "  </tbody>\n",
       "</table>\n",
       "</div>"
      ],
      "text/plain": [
       "                     Chance of Winning\n",
       "Team                                  \n",
       "Toronto Maple Leafs             57.155\n",
       "Montreal Canadiens              23.968\n",
       "Overtime                        18.877"
      ]
     },
     "metadata": {},
     "output_type": "display_data"
    },
    {
     "data": {
      "text/plain": [
       "<Figure size 432x288 with 0 Axes>"
      ]
     },
     "metadata": {},
     "output_type": "display_data"
    },
    {
     "data": {
      "image/png": "[encoded data removed]",
      "text/plain": [
       "<Figure size 720x360 with 1 Axes>"
      ]
     },
     "metadata": {
      "needs_background": "light"
     },
     "output_type": "display_data"
    },
    {
     "name": "stdout",
     "output_type": "stream",
     "text": [
      "Toronto Maple Leafs chances of winning: 57.155 % \n",
      "Montreal Canadiens chances of winning: 23.968 % \n",
      "Percent chance the game will go to overtime: 18.877 % \n",
      " \n",
      " Low Danger shots per game by Toronto Maple Leafs: 8 \n",
      " \n",
      " Medium Danger shots per game by Toronto Maple Leafs: 7 \n",
      " \n",
      " High Danger shots per game by Toronto Maple Leafs: 7 \n",
      " \n",
      " Low Danger shots per game by Montreal Canadiens: 11 \n",
      " \n",
      " Medium Danger shots per game by Montreal Canadiens: 6 \n",
      " \n",
      " High Danger shots per game by Montreal Canadiens: 5 \n",
      " \n",
      " Goals per game scored by the Toronto Maple Leafs: 2.69001 \n",
      " \n",
      " Goals per game scored by the Montreal Canadiens: 1.82274 \n",
      " \n",
      " Low danger goals per game scored by Toronto Maple Leafs: 0.18384 \n",
      " \n",
      " Medium danger goals per game scored by Toronto Maple Leafs: 0.99719 \n",
      " \n",
      " High danger goals per game scored by Toronto Maple Leafs: 1.50898 \n",
      " \n",
      " Low danger goals per game scored by Montreal Canadiens: 0.32552 \n",
      " \n",
      " Medium danger goals per game scored by Montreal Canadiens: 0.38858 \n",
      " \n",
      " High danger goals per game scored by Montreal Canadiens: 1.10864 \n",
      " \n",
      " Percent of total goals scored on Low danger shots by Toronto Maple Leafs: 6.83 \n",
      " \n",
      " Percent of total goals scored on Low danger shots by Montreal Canadiens: 17.86 \n",
      " \n",
      " Percent of total goals scored on Medium danger shots by Toronto Maple Leafs: 37.07 \n",
      " \n",
      " Percent of total goals scored on Medium danger shots by Montreal Canadiens: 21.32 \n",
      " \n",
      " Percent of total goals scored on High danger shots by Toronto Maple Leafs: 56.1 \n",
      " \n",
      " Percent of total goals scored on High danger shots by Montreal Canadiens: 60.82 \n",
      " \n",
      "\n"
     ]
    }
   ],
   "source": [
    "monte_carlo_matchup('Toronto Maple Leafs', 'Montreal Canadiens')"
   ]
  },
  {
   "cell_type": "markdown",
   "id": "f640b406",
   "metadata": {},
   "source": [
    "## Analyzing Our Findings: \n",
    "\n",
    "The simulations are working great and we are getting lots of good info about each teams' chances against one another. We can see in the final simulation between Toronto and Montreal that the vast majority of their goals were scored on high danger shots. Let's look at some visualizations of the teams' relative save percentages and see why this might be. "
   ]
  },
  {
   "cell_type": "code",
   "execution_count": 71,
   "id": "8956a8ff",
   "metadata": {},
   "outputs": [
    {
     "data": {
      "text/plain": [
       "Text(0.5, 1.0, 'Low Danger Save Percentages by Team')"
      ]
     },
     "execution_count": 71,
     "metadata": {},
     "output_type": "execute_result"
    },
    {
     "data": {
      "image/png": "[encoded data removed]",
      "text/plain": [
       "<Figure size 1152x864 with 1 Axes>"
      ]
     },
     "metadata": {
      "needs_background": "light"
     },
     "output_type": "display_data"
    }
   ],
   "source": [
    "Monte_carlo_df['LDSV%'].sort_values().plot(kind='barh', figsize=(16,12), xticks = (np.arange(80, 110, step=2)), xlim=([95,100]))\n",
    "plt.title('Low Danger Save Percentages')"
   ]
  },
  {
   "cell_type": "markdown",
   "id": "6f7abcc4",
   "metadata": {},
   "source": [
    "On low danger shots Montreal is one of the best teams in the NHL, which explains why Toronto was only projected to score 6% of their total goals on low danger shots. \n",
    "\n",
    "Toronto on the other hand is one of the worst teams in the league on low danger shots against, which explains why Montreal scored nearly 18% of their goals on low danger shots in the simulation. "
   ]
  },
  {
   "cell_type": "code",
   "execution_count": 72,
   "id": "0e94675d",
   "metadata": {},
   "outputs": [
    {
     "data": {
      "text/plain": [
       "Text(0.5, 1.0, 'Medium Danger Save Percentages')"
      ]
     },
     "execution_count": 72,
     "metadata": {},
     "output_type": "execute_result"
    },
    {
     "data": {
      "image/png": "[encoded data removed]",
      "text/plain": [
       "<Figure size 1152x864 with 1 Axes>"
      ]
     },
     "metadata": {
      "needs_background": "light"
     },
     "output_type": "display_data"
    }
   ],
   "source": [
    "Monte_carlo_df['MDSV%'].sort_values().plot(kind='barh', figsize=(16,12), xticks = (np.arange(80, 110, step=2)), xlim=([85,100]))\n",
    "plt.title('Medium Danger Save Percentages')"
   ]
  },
  {
   "cell_type": "markdown",
   "id": "b3f5c010",
   "metadata": {},
   "source": [
    "Toronto's Medium danger save percentage is very good, illustrating why Montreal only scored 21% of their goals on medium danger shots. \n",
    "\n",
    "Montreal on the other hand is quite poor in terms of medium danger save percentage, allowing Toronto to score 37% of their goals on medium danger shots. "
   ]
  },
  {
   "cell_type": "code",
   "execution_count": 73,
   "id": "7e0e0b9e",
   "metadata": {},
   "outputs": [
    {
     "data": {
      "text/plain": [
       "Text(0.5, 1.0, 'High Danger Save Percentages')"
      ]
     },
     "execution_count": 73,
     "metadata": {},
     "output_type": "execute_result"
    },
    {
     "data": {
      "image/png": "[encoded data removed]",
      "text/plain": [
       "<Figure size 1152x864 with 1 Axes>"
      ]
     },
     "metadata": {
      "needs_background": "light"
     },
     "output_type": "display_data"
    }
   ],
   "source": [
    "Monte_carlo_df['HDSV%'].sort_values().plot(kind='barh', figsize=(16,12), xticks = (np.arange(70, 90, step=2)), xlim=([75,90]))\n",
    "plt.title('High Danger Save Percentages')"
   ]
  },
  {
   "cell_type": "markdown",
   "id": "a8e096f8",
   "metadata": {},
   "source": [
    "Finally, with high dangers shots, we see Toronto around league average, and Montreal scored nearly 61% of their goals in the simulation on high danger shots. \n",
    "\n",
    "Toronto scored at a high percentage as well at over 56%, and we can see that Montreal is near the bottom of the league.\n",
    "\n",
    "It's important to note that high danger chances do tend to generate the most goals overall. The league average save percentage on high danger chances is only 82.07%. \n",
    "\n",
    "Toronto is heavily favored in this matchup; they generate more high and medium danger shots per game than Montreal, and score .8 more goals per game than Montreal does. "
   ]
  },
  {
   "cell_type": "markdown",
   "id": "80eabf93",
   "metadata": {},
   "source": [
    "## Applications in Pro Scouting:\n",
    "So what can a team do with these statistics? That is where I see value in using a tool like this for pro scouting. Each team can identify both their strengths and weaknesses, and the strengths and weaknesses of their opponents, to formulate an offensive and defensive gameplan. \n",
    "\n",
    "Using Montreal and Toronto again, we know that both teams will want to protect the high danger areas because that is where the majority of goals are scored. Outside of that, would it make more sense for Montreal to focus entirely on limiting all shots that are both medium and high danger? Their goaltending is excellent at making low danger saves, so they would actually be playing to their strengths by forcing Toronto to shoot from the outside. They would also be forcing Toronto away from their primary source of scoring. \n",
    "\n",
    "Conversely, Toronto should play to the strengths of their own goalie, and try to protect from high danger shots and low danger shots as their medium danger save percentage is very good. From an offensive standpoint, they should push very hard to only take medium and high danger shots, and avoid low danger shots when possible, thereby taking away one of Montreal's strengths. \n",
    "\n",
    "Beyond that, I think that a simulation like this is a good way to isolate exploitable factors for each team to help them on a game by game basis. \n",
    "\n",
    "From here I would like to refine the model, add more factors besides expected save percentages and shot totals, and see if I can fine tune the predicitions and useful statistics even further. "
   ]
  },
  {
   "cell_type": "markdown",
   "id": "befe4360",
   "metadata": {},
   "source": [
    "## Next Steps:\n",
    "\n",
    "As I continue to refine this model, I would also like to build a player valuation model. The world of hockey statistics is growing and there will always be new stats added that can hopefully create more accurate evaluations. After building a player valuation model I hope to add the individual player impacts on each game into the Monte Carlo simulations to grow the intricacies even further. Along with that I'd like to add home ice advantage, days of rest, and add weights for each of those. I'd also like to build functions for tracking daily changes in all stat and alterations in lineups and rosters. Finally, I would really like to build a line generator that creates the best 3 forward line combination. "
   ]
  },
  {
   "cell_type": "markdown",
   "id": "e1ee9221",
   "metadata": {},
   "source": [
    "## Conclusions:\n",
    "\n",
    "    --There is a lot of data out there that can be used to help with the analysis of hockey.\n",
    "    --Using a basic Monte Carlo simulation created a relatively competitive model compared to others on Twitter.\n",
    "    --There is a lot more to build to create a highly effective model.\n",
    "    --Building a detailed function from scratch is a fun and challenging endeavor.\n",
    "    --Even the most basic hockey statistics can be useful for evaluation of teams. \n",
    "    --This has solidified my belief that I would enjoy working in sports analytics.\n",
    "        --I will focus my job search to try to work in this field.\n",
    "\n",
    "This was an incredibly fun introduction into the world of hockey analytics. I am so excited to dig deeper and learn more every day! \n",
    "\n"
   ]
  }
 ],
 "metadata": {
  "kernelspec": {
   "display_name": "Python 3",
   "language": "python",
   "name": "python3"
  },
  "language_info": {
   "codemirror_mode": {
    "name": "ipython",
    "version": 3
   },
   "file_extension": ".py",
   "mimetype": "text/x-python",
   "name": "python",
   "nbconvert_exporter": "python",
   "pygments_lexer": "ipython3",
   "version": "3.9.5"
  }
 },
 "nbformat": 4,
 "nbformat_minor": 5
}
